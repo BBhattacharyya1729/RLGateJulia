{
 "cells": [
  {
   "cell_type": "code",
   "execution_count": 1,
   "id": "d9251d6d-3417-491a-9477-abf9461d3503",
   "metadata": {},
   "outputs": [],
   "source": [
    "### This file does a RZ gate (1 parameter, 1 qubit) with X,Y control\n",
    "using QuantumCollocation\n",
    "using NamedTrajectories\n",
    "using TrajectoryIndexingUtils"
   ]
  },
  {
   "cell_type": "code",
   "execution_count": 2,
   "id": "38f30647-3210-43a1-811c-dc6177c77b5e",
   "metadata": {},
   "outputs": [],
   "source": [
    "const Units = 1e9\n",
    "const MHz = 1e6 / Units\n",
    "const GHz = 1e9 / Units\n",
    "const ns = 1e-9 * Units\n",
    "const μs = 1e-6 * Units\n",
    ";"
   ]
  },
  {
   "cell_type": "code",
   "execution_count": 3,
   "id": "9bdda0bb-faf2-48f8-8f8e-14543e44fd3c",
   "metadata": {},
   "outputs": [
    {
     "data": {
      "text/plain": [
       "0.2"
      ]
     },
     "execution_count": 3,
     "metadata": {},
     "output_type": "execute_result"
    }
   ],
   "source": [
    "# Operators\n",
    "const Paulis = Dict(\n",
    "    \"I\" => Matrix{ComplexF64}([1 0; 0 1]),\n",
    "    \"X\" => Matrix{ComplexF64}([0 1; 1 0]),\n",
    "    \"Y\" => Matrix{ComplexF64}([0 im; -im 0]),\n",
    "    \"Z\" => Matrix{ComplexF64}([1 0; 0 -1]),\n",
    ")\n",
    "const a = [0 1; 0 0]\n",
    "const ad = transpose(a);\n",
    "excitation(theta) = exp(-im/2 * theta * Paulis[\"Z\"]);\n",
    "\n",
    "\n",
    "H_drives = [\n",
    "     Paulis[\"X\"],Paulis[\"X\"]\n",
    "]\n",
    "system = QuantumSystem(H_drives);\n",
    "t_f = 10* ns\n",
    "n_steps = 51\n",
    "times = range(0, t_f, n_steps)  # Alternative: collect(0:Δt:t_f)\n",
    "n_controls=1\n",
    "n_qubits=1;\n",
    "Δt = times[2] - times[1]"
   ]
  },
  {
   "cell_type": "code",
   "execution_count": null,
   "id": "037f24f3-7941-4bd8-8ade-dbf104b3345a",
   "metadata": {},
   "outputs": [],
   "source": [
    "N = 11\n"
   ]
  },
  {
   "cell_type": "code",
   "execution_count": null,
   "id": "526e51fc-8697-4b90-a0be-bb00af17a216",
   "metadata": {},
   "outputs": [],
   "source": [
    "DATA = sample1D(trajectory_list,Δt,n_qubits,system,2500,N,excitation)\n",
    "findmax(DATA)"
   ]
  },
  {
   "cell_type": "code",
   "execution_count": null,
   "id": "9373c661-b5d6-4cc8-b12b-16e7ae8664d5",
   "metadata": {},
   "outputs": [],
   "source": []
  }
 ],
 "metadata": {
  "kernelspec": {
   "display_name": "Julia 1.9.1",
   "language": "julia",
   "name": "julia-1.9"
  },
  "language_info": {
   "file_extension": ".jl",
   "mimetype": "application/julia",
   "name": "julia",
   "version": "1.9.1"
  }
 },
 "nbformat": 4,
 "nbformat_minor": 5
}
