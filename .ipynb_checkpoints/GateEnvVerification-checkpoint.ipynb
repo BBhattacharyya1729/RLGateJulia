{
 "cells": [
  {
   "cell_type": "code",
   "execution_count": 1,
   "id": "64f7dbda-9e75-46a6-b709-4975e5ad67c6",
   "metadata": {},
   "outputs": [],
   "source": [
    "using QuantumCollocation\n",
    "using NamedTrajectories\n",
    "using TrajectoryIndexingUtils\n",
    "using Flux\n",
    "using ReinforcementLearning\n",
    "using IntervalSets\n",
    "using LinearAlgebra\n",
    "using Base\n",
    "using Distributions\n",
    "using Statistics\n",
    "using Printf\n",
    "using Reexport\n",
    "using Revise\n",
    "using DomainSets\n",
    "using CairoMakie\n",
    "\n",
    "includet(\"PPO.jl\")\n",
    "includet(\"GateEnvs.jl\")"
   ]
  },
  {
   "cell_type": "code",
   "execution_count": 2,
   "id": "e1fc6ec4-5799-49fb-8e90-fab916fe439f",
   "metadata": {},
   "outputs": [
    {
     "data": {
      "text/plain": [
       "trajectory_score (generic function with 2 methods)"
      ]
     },
     "execution_count": 2,
     "metadata": {},
     "output_type": "execute_result"
    }
   ],
   "source": [
    "#~~~~~~~~~~~~Helper Methods~~~~~~~~~~~~~~~~~~\n",
    "function euler(dda::Matrix{Float64},n_steps::Int64,Δt::Float64)\n",
    "    n_controls = size(dda)[1]\n",
    "    da_init=-sum(hcat([0 for i in 1:n_controls],cumsum(dda[:,1:end-1]*Δt,dims=2))[:,1:end-1],dims=2)/(n_steps-1)\n",
    "    da=hcat([0 for i in 1:n_controls],cumsum(dda[:,1:end-1]*Δt,dims=2)) + reduce(hcat,[da_init for i in 1:n_steps])\n",
    "    a_=hcat([0 for i in 1:n_controls],cumsum(da[:,1:end-1]*Δt,dims=2))\n",
    "    return a_\n",
    "end\n",
    "\n",
    "function trajectory_score(env::GatePretrainingEnv;\n",
    "                S::Float64=1e-2 * 2/env.traj.timestep^2,\n",
    "                S_a::Float64=S,\n",
    "                S_da::Float64=S,\n",
    "                S_dda::Float64=S)\n",
    "    idx = Vector{Int64}(env.ϕ⃗.*(env.N-1)/(2*pi).+1)\n",
    "    idx = sum((idx[1:env.𝒢.n-1].-1).*[env.N^(env.𝒢.n-i) for i in 1:env.𝒢.n-1])+idx[end]\n",
    "\n",
    "    return (-QuadraticRegularizer(:dda,env.traj,S_dda;baseline=env.pretraining_trajectory[Symbol(\"dda\"*string(idx))]).L(env.traj.datavec,env.traj)\n",
    "          -QuadraticRegularizer(:da,env.traj,S_da;baseline=env.pretraining_trajectory[Symbol(\"da\"*string(idx))]).L(env.traj.datavec,env.traj)\n",
    "          -QuadraticRegularizer(:a,env.traj,S_a;baseline=env.pretraining_trajectory[Symbol(\"a\"*string(idx))]).L(env.traj.datavec,env.traj))\n",
    "end\n",
    "\n",
    "function trajectory_score(env::GateTrainingEnv;\n",
    "                R::Float64=1e-2 * 2/env.traj.timestep^2,\n",
    "                Q::Float64=100.0 * 2/env.traj.timestep^2,\n",
    "                R_a::Float64=R,\n",
    "                R_da::Float64=R,\n",
    "                R_dda::Float64=R)\n",
    "    return (-QuadraticRegularizer(:dda,env.traj,R_dda).L(env.traj.datavec,env.traj)\n",
    "          -QuadraticRegularizer(:da,env.traj,R_da).L(env.traj.datavec,env.traj)\n",
    "          -QuadraticRegularizer(:a,env.traj,R_a).L(env.traj.datavec,env.traj)\n",
    "          -Q * unitary_infidelity(operator_to_iso_vec(env.𝒢(env.ϕ⃗)),env.traj[:Ũ⃗][:,end]))\n",
    "end\n",
    "\n"
   ]
  },
  {
   "cell_type": "code",
   "execution_count": 3,
   "id": "57ba94f2-d434-4c18-8e88-c2012d588adc",
   "metadata": {},
   "outputs": [],
   "source": [
    "RZ_traj = load_traj(\"RZ_pretrained.jld2\")\n",
    "\n",
    "const Units = 1e9\n",
    "const MHz = 1e6 / Units\n",
    "const GHz = 1e9 / Units\n",
    "const ns = 1e-9 * Units\n",
    "const μs = 1e-6 * Units\n",
    ";\n",
    "\n",
    "\n",
    "# Operators\n",
    "const Paulis = Dict(\n",
    "    \"I\" => Matrix{ComplexF64}([1 0; 0 1]),\n",
    "    \"X\" => Matrix{ComplexF64}([0 1; 1 0]),\n",
    "    \"Y\" => Matrix{ComplexF64}([0 im; -im 0]),\n",
    "    \"Z\" => Matrix{ComplexF64}([1 0; 0 -1]),\n",
    ")\n",
    "\n",
    "rz_op(theta) = exp(-im/2 * theta[1] * Paulis[\"Z\"]);\n",
    "\n",
    "RZ = Gate(1,rz_op)\n",
    "\n",
    "H_drives = [\n",
    "     Paulis[\"X\"],Paulis[\"Y\"]\n",
    "]\n",
    "system = QuantumSystem(H_drives);\n",
    "t_f = 10* ns\n",
    "n_steps = 51\n",
    "times = range(0, t_f, n_steps)  # Alternative: collect(0:Δt:t_f)\n",
    "n_controls=1\n",
    "n_qubits=1;\n",
    "Δt = times[2] - times[1]\n",
    "\n",
    "N = 11\n",
    ";"
   ]
  },
  {
   "cell_type": "code",
   "execution_count": 4,
   "id": "714d8ed4-3433-42ed-952c-a5cfa444417f",
   "metadata": {},
   "outputs": [
    {
     "data": {
      "text/plain": [
       "ActorCriticPolicy(Chain(Dense(14 => 64, tanh), Dense(64 => 64, tanh)), Dense(64 => 2, tanh), Dense(64 => 1, log_std_clip), Chain(Dense(14 => 64, tanh), Dense(64 => 64, tanh), Dense(64 => 1)))"
      ]
     },
     "execution_count": 4,
     "metadata": {},
     "output_type": "execute_result"
    }
   ],
   "source": [
    "Pretraining_Env = GatePretrainingEnv(\n",
    "                                    system,\n",
    "                                    n_steps,\n",
    "                                    RZ,\n",
    "                                    Δt,\n",
    "                                    N,\n",
    "                                    RZ_traj;\n",
    "                                    dda_bound=1.5\n",
    "                                    )\n",
    "\n",
    "Training_Env = GateTrainingEnv(\n",
    "                            system,\n",
    "                            n_steps,\n",
    "                            RZ,\n",
    "                            Δt;\n",
    "                            dda_bound=0.5\n",
    "                            );\n",
    "\n",
    "pretraining_𝒫 = ActorCriticPolicy(Pretraining_Env;l=[64,64])\n",
    "training_𝒫 = ActorCriticPolicy(Training_Env;l=[64,64])"
   ]
  },
  {
   "cell_type": "code",
   "execution_count": 5,
   "id": "5090113d-292c-4f26-bdc7-a34744c7c554",
   "metadata": {},
   "outputs": [],
   "source": [
    "kwargs = (S_a=1e-2,S_da=2e-2,S_dda=1.5e-2)\n",
    "rewards,acts,states = sample_trajectory(pretraining_𝒫,Pretraining_Env; kwargs...);"
   ]
  },
  {
   "cell_type": "code",
   "execution_count": 6,
   "id": "2b548689-6448-4345-bf45-faf21c806619",
   "metadata": {},
   "outputs": [
    {
     "data": {
      "text/plain": [
       "0.0"
      ]
     },
     "execution_count": 6,
     "metadata": {},
     "output_type": "execute_result"
    }
   ],
   "source": [
    "sum((reduce(hcat,1.5*acts)-Pretraining_Env.traj[:dda][:,1:end-3]).^2)"
   ]
  },
  {
   "cell_type": "code",
   "execution_count": 7,
   "id": "e41f1de8-f3de-4fc7-a270-f09bd7ddbcb3",
   "metadata": {
    "scrolled": true
   },
   "outputs": [
    {
     "data": {
      "text/plain": [
       "8.98118318450016e-11"
      ]
     },
     "execution_count": 7,
     "metadata": {},
     "output_type": "execute_result"
    }
   ],
   "source": [
    "sum((reduce(hcat,states)[1:end-2,:]-reduce(vcat,[Pretraining_Env.traj[:Ũ⃗][:,1:end-3],Pretraining_Env.traj[:da][:,1:end-3],Pretraining_Env.traj[:a][:,1:end-3]])).^2)"
   ]
  },
  {
   "cell_type": "code",
   "execution_count": 8,
   "id": "17cddbbd-de6e-4c10-b080-44abd280b94e",
   "metadata": {},
   "outputs": [
    {
     "data": {
      "text/plain": [
       "2.186595222138462e-26"
      ]
     },
     "execution_count": 8,
     "metadata": {},
     "output_type": "execute_result"
    }
   ],
   "source": [
    "sum((euler(Pretraining_Env.traj[:dda],n_steps,Δt)-Pretraining_Env.traj[:a]).^2)"
   ]
  },
  {
   "cell_type": "code",
   "execution_count": 9,
   "id": "f8ae2261-bb90-44f1-852c-95dcc077843f",
   "metadata": {},
   "outputs": [
    {
     "data": {
      "text/plain": [
       "4.775737267954299e-9"
      ]
     },
     "execution_count": 9,
     "metadata": {},
     "output_type": "execute_result"
    }
   ],
   "source": [
    "(trajectory_score(Pretraining_Env;kwargs...)-sum(rewards))/trajectory_score(Pretraining_Env;kwargs...)"
   ]
  },
  {
   "cell_type": "code",
   "execution_count": 10,
   "id": "9bc1aa83-a31c-4462-b2dd-b0bda3b9f93e",
   "metadata": {},
   "outputs": [
    {
     "data": {
      "text/plain": [
       "8-element Vector{Float64}:\n",
       " 0.0\n",
       " 0.0\n",
       " 0.0\n",
       " 0.0\n",
       " 0.0\n",
       " 0.0\n",
       " 0.0\n",
       " 0.0"
      ]
     },
     "execution_count": 10,
     "metadata": {},
     "output_type": "execute_result"
    }
   ],
   "source": [
    "unitary_rollout(operator_to_iso_vec([1+0.0im 0; 0 1]),Pretraining_Env.traj[:a],Δt,system)[:,end]-Pretraining_Env.traj[:Ũ⃗][:,end]"
   ]
  },
  {
   "cell_type": "code",
   "execution_count": 11,
   "id": "c1c21517-dd47-4e5b-83db-d3e351e5ea34",
   "metadata": {},
   "outputs": [],
   "source": [
    "kwargs = (R_a=1e-2,R_da=2e-2,R_dda=1.5e-2,Q=100.0)\n",
    "rewards,acts,states = sample_trajectory(training_𝒫,Training_Env; kwargs...);"
   ]
  },
  {
   "cell_type": "code",
   "execution_count": 12,
   "id": "209f2f27-5753-4255-a79d-dfd6d801f24a",
   "metadata": {},
   "outputs": [
    {
     "data": {
      "text/plain": [
       "0.0"
      ]
     },
     "execution_count": 12,
     "metadata": {},
     "output_type": "execute_result"
    }
   ],
   "source": [
    "sum((reduce(hcat,0.5*acts)-Training_Env.traj[:dda][:,1:end-3]).^2)"
   ]
  },
  {
   "cell_type": "code",
   "execution_count": 13,
   "id": "d6520a19-3cb0-4ec1-8cb8-bc6d5cc99277",
   "metadata": {},
   "outputs": [
    {
     "data": {
      "text/plain": [
       "1.9415133350362835e-12"
      ]
     },
     "execution_count": 13,
     "metadata": {},
     "output_type": "execute_result"
    }
   ],
   "source": [
    "sum((reduce(hcat,states)[1:end-2,:]-reduce(vcat,[Training_Env.traj[:Ũ⃗][:,1:end-3],Training_Env.traj[:da][:,1:end-3],Training_Env.traj[:a][:,1:end-3]])).^2)"
   ]
  },
  {
   "cell_type": "code",
   "execution_count": 14,
   "id": "404ff913-540e-42f6-b3c7-5b235f263570",
   "metadata": {},
   "outputs": [
    {
     "data": {
      "text/plain": [
       "3.8443844965275514e-28"
      ]
     },
     "execution_count": 14,
     "metadata": {},
     "output_type": "execute_result"
    }
   ],
   "source": [
    "sum((euler(Training_Env.traj[:dda],n_steps,Δt)-Training_Env.traj[:a]).^2)"
   ]
  },
  {
   "cell_type": "code",
   "execution_count": 15,
   "id": "98fe9735-4115-4dec-9965-e6f4cc7c7e6b",
   "metadata": {},
   "outputs": [
    {
     "data": {
      "text/plain": [
       "-8.313061222866381e-8"
      ]
     },
     "execution_count": 15,
     "metadata": {},
     "output_type": "execute_result"
    }
   ],
   "source": [
    "(trajectory_score(Training_Env;kwargs...)-sum(rewards))/trajectory_score(Training_Env;kwargs...)"
   ]
  },
  {
   "cell_type": "code",
   "execution_count": 16,
   "id": "95309b83-09db-4316-9cd3-31da1714aea7",
   "metadata": {},
   "outputs": [
    {
     "data": {
      "text/plain": [
       "8-element Vector{Float64}:\n",
       " 0.0\n",
       " 0.0\n",
       " 0.0\n",
       " 0.0\n",
       " 0.0\n",
       " 0.0\n",
       " 0.0\n",
       " 0.0"
      ]
     },
     "execution_count": 16,
     "metadata": {},
     "output_type": "execute_result"
    }
   ],
   "source": [
    "unitary_rollout(operator_to_iso_vec([1+0.0im 0; 0 1]),Training_Env.traj[:a],Δt,system)[:,end]-Training_Env.traj[:Ũ⃗][:,end]"
   ]
  }
 ],
 "metadata": {
  "kernelspec": {
   "display_name": "Julia 1.10.4",
   "language": "julia",
   "name": "julia-1.10"
  },
  "language_info": {
   "file_extension": ".jl",
   "mimetype": "application/julia",
   "name": "julia",
   "version": "1.10.4"
  }
 },
 "nbformat": 4,
 "nbformat_minor": 5
}
