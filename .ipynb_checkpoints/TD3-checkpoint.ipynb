{
 "cells": [
  {
   "cell_type": "code",
   "execution_count": 7,
   "id": "6b6b4638-ece2-4119-abbd-1dbe7eb3367e",
   "metadata": {},
   "outputs": [],
   "source": [
    "using QuantumCollocation\n",
    "using NamedTrajectories\n",
    "using TrajectoryIndexingUtils\n",
    "using Flux\n",
    "using ReinforcementLearning\n",
    "using IntervalSets\n",
    "using LinearAlgebra\n",
    "using Base\n",
    "using Distributions\n",
    "using Statistics\n",
    "using Printf\n",
    "using Reexport\n",
    "using Revise\n",
    "\n",
    "includet(\"RL.jl\")"
   ]
  },
  {
   "cell_type": "code",
   "execution_count": 8,
   "id": "3a9da9b5-ede2-457d-8c07-d2e03474f2d2",
   "metadata": {},
   "outputs": [
    {
     "data": {
      "text/plain": [
       "L2_loss (generic function with 1 method)"
      ]
     },
     "execution_count": 8,
     "metadata": {},
     "output_type": "execute_result"
    }
   ],
   "source": [
    "function L2_loss(traj::NamedTrajectory{Float64},symb::Symbol,index::Int64,R::Float64;value::Union{Vector{Float64},Nothing}= nothing)\n",
    "    return isnothing(value) ? R*traj.timestep^2/2 * sum(traj[symb][:,index].^2) : R*traj.timestep^2/2 * sum((traj[symb][:,index]-value).^2)  \n",
    "end"
   ]
  },
  {
   "cell_type": "code",
   "execution_count": 9,
   "id": "1dcc5022-deed-424c-9857-aa6738e6b910",
   "metadata": {},
   "outputs": [
    {
     "data": {
      "text/plain": [
       "5-element Vector{Float64}:\n",
       " 0.6938627332305791\n",
       " 0.006931338713097701\n",
       " 0.9343036508822421\n",
       " 1.0\n",
       " 0.0"
      ]
     },
     "execution_count": 9,
     "metadata": {},
     "output_type": "execute_result"
    }
   ],
   "source": []
  },
  {
   "cell_type": "code",
   "execution_count": 13,
   "id": "8aec066c-6687-45e5-bdd9-eb5852ad4dd9",
   "metadata": {},
   "outputs": [
    {
     "data": {
      "text/plain": [
       "3×1 Matrix{Float64}:\n",
       " 0.0\n",
       " 0.0\n",
       " 0.0"
      ]
     },
     "execution_count": 13,
     "metadata": {},
     "output_type": "execute_result"
    }
   ],
   "source": [
    "reduce(hcat,[[0. for i in 1:3]])"
   ]
  },
  {
   "cell_type": "code",
   "execution_count": 20,
   "id": "b4eba5e8-ad31-4589-8277-86807094c6e1",
   "metadata": {},
   "outputs": [
    {
     "ename": "LoadError",
     "evalue": "UndefVarError: `system` not defined",
     "output_type": "error",
     "traceback": [
      "UndefVarError: `system` not defined",
      "",
      "Stacktrace:",
      " [1] (::var\"#216#217\")(i::Int64)",
      "   @ Main .\\none:0",
      " [2] iterate",
      "   @ .\\generator.jl:47 [inlined]",
      " [3] collect(itr::Base.Generator{UnitRange{Int64}, var\"#216#217\"})",
      "   @ Base .\\array.jl:834",
      " [4] top-level scope",
      "   @ In[20]:1"
     ]
    }
   ],
   "source": []
  },
  {
   "cell_type": "code",
   "execution_count": 19,
   "id": "5f1b3812-4904-45fd-a3f2-4cee25728ce6",
   "metadata": {},
   "outputs": [
    {
     "data": {
      "text/plain": [
       "32×3 Matrix{Float64}:\n",
       " 1.0  1.0  1.0\n",
       " 0.0  0.0  0.0\n",
       " 0.0  0.0  0.0\n",
       " 0.0  0.0  0.0\n",
       " 0.0  0.0  0.0\n",
       " 0.0  0.0  0.0\n",
       " 0.0  0.0  0.0\n",
       " 0.0  0.0  0.0\n",
       " 0.0  0.0  0.0\n",
       " 1.0  1.0  1.0\n",
       " 0.0  0.0  0.0\n",
       " 0.0  0.0  0.0\n",
       " 0.0  0.0  0.0\n",
       " ⋮         \n",
       " 0.0  0.0  0.0\n",
       " 0.0  0.0  0.0\n",
       " 0.0  0.0  0.0\n",
       " 0.0  0.0  0.0\n",
       " 0.0  0.0  0.0\n",
       " 0.0  0.0  0.0\n",
       " 0.0  0.0  0.0\n",
       " 1.0  1.0  1.0\n",
       " 0.0  0.0  0.0\n",
       " 0.0  0.0  0.0\n",
       " 0.0  0.0  0.0\n",
       " 0.0  0.0  0.0"
      ]
     },
     "execution_count": 19,
     "metadata": {},
     "output_type": "execute_result"
    }
   ],
   "source": []
  },
  {
   "cell_type": "code",
   "execution_count": 10,
   "id": "80d42c09-fe1e-4295-9dcd-714fe0dc57ad",
   "metadata": {
    "scrolled": true
   },
   "outputs": [
    {
     "data": {
      "text/plain": [
       "GateTrainingEnv"
      ]
     },
     "execution_count": 10,
     "metadata": {},
     "output_type": "execute_result"
    }
   ],
   "source": [
    "Base.@kwdef mutable struct GatePretrainingEnv <: AbstractEnv\n",
    "            system::AbstractQuantumSystem\n",
    "            T::Int64\n",
    "            𝒢::Gate\n",
    "            N::Int64\n",
    "            pretraining_trajectory::NamedTrajectory{Float64}\n",
    "    \n",
    "            dda_bound::Float64=1.0\n",
    "            time_step::Float64=1/T\n",
    "            \n",
    "            traj::NamedTrajectory{Float64}\n",
    "            ϕ⃗::Vector{Float64} = [range(0,2*pi,N)[i] for i in rand(DiscreteUniform(1,N),g.n)]\n",
    "end\n",
    "\n",
    "function GatePretrainingEnv(system::AbstractQuantumSystem,T::Int64,𝒢::Gate,Δt::Float64,N::Int64,pretraining_trajectory::NamedTrajectory{Float64};dda_bound::Float64=1.0)\n",
    "    n_controls = length(system.H_drives)\n",
    "\n",
    "    component(\n",
    "        a = Matrix{Float64}(zeros(n_controls,T))\n",
    "        da = Matrix{Float64}(zeros(n_controls,T))\n",
    "        dda =  Matrix{Float64}(zeros(n_controls,T))\n",
    "        Ũ⃗ = reduce(hcat,[operator_to_iso_vec(Matrix{ComplexF64}(I(size(system.H_drives[1], 1)))) for i in 1:T])\n",
    "    )\n",
    "    \n",
    "    traj = NamedTrajectory(components; timestep=Δt, controls=:a)\n",
    "    \n",
    "    return GatePretrainingEnv(\n",
    "            system = system,\n",
    "            T = T,\n",
    "            𝒢 = 𝒢,\n",
    "            N=N,\n",
    "            pretraining_trajectory = pretraining_trajectory,\n",
    "            dda_bound = dda_bound,\n",
    "            traj = traj\n",
    "            )\n",
    "end\n",
    "\n",
    "Base.@kwdef mutable struct GateTrainingEnv <: AbstractEnv\n",
    "            system::AbstractQuantumSystem\n",
    "            T::Int\n",
    "            𝒢::Gate\n",
    "    \n",
    "            dda_bound::Float64=1.0\n",
    "            time_step::Float64=1/T\n",
    "            \n",
    "            traj::NamedTrajectory{Float64}\n",
    "            ϕ⃗::Vector{Float64} = [range(0,2*pi,N)[i] for i in rand(DiscreteUniform(1,N),g.n)]\n",
    "end\n",
    "\n",
    "function GateTrainingEnv(system::AbstractQuantumSystem,T::Int64,𝒢::Gate,Δt::Float64;dda_bound::Float64=1.0)\n",
    "    n_controls = length(system.H_drives)\n",
    "\n",
    "    component(\n",
    "        a = Matrix{Float64}(zeros(n_controls,T))\n",
    "        da = Matrix{Float64}(zeros(n_controls,T))\n",
    "        dda =  Matrix{Float64}(zeros(n_controls,T))\n",
    "        Ũ⃗ = reduce(hcat,[operator_to_iso_vec(Matrix{ComplexF64}(I(size(system.H_drives[1], 1)))) for i in 1:T])\n",
    "    )\n",
    "    \n",
    "    traj = NamedTrajectory(components; timestep=Δt, controls=:a)\n",
    "    \n",
    "    return GateTrainingEnv(\n",
    "            system = system,\n",
    "            T = T,\n",
    "            𝒢 = 𝒢,\n",
    "            dda_bound = dda_bound,\n",
    "            traj = traj\n",
    "            )\n",
    "end\n",
    "\n",
    "RLBase.is_terminated(env::Union{GatePretrainingEnv,GateTrainingEnv}) = env.time_step >= (env.T-2)/env.T\n",
    "RLBase.action_space(env::Union{GatePretrainingEnv,GateTrainingEnv}) = reduce(×,[(-1..1) for i in 1:length(env.system.H_drives)])\n",
    "RLBase.state_space(env::Union{GatePretrainingEnv,GateTrainingEnv}) = reduce(×, [(-1..1) for i in 1:length(env.current_op)]) × reduce(×, [(-Inf..Inf) for i in 1:2*length(env.system.H_drives)]) × (1/env.T..1) × reduce(×,[(0..2*pi) for i in 1:env.𝒢.n])\n",
    "RLBase.state(env::Union{GatePretrainingEnv,GateTrainingEnv})= reduce(vcat,[env.traj.Ũ⃗[:,Int64(round(env.traj.time_step*env.T))],env.traj.da[:,Int64(round(env.traj.time_step*env.T))],env.traj.a[:,Int64(round(env.traj.time_step*env.T))],[env.time_step],env.ϕ⃗])\n",
    "\n",
    "\n",
    "function RLBase.act!(env::Union{GatePretrainingEnv,GateTrainingEnv}, action::Union{Vector{Float32},Vector{Float64}})\n",
    "    t = Int64(round(env.time_step*env.T))\n",
    "    action = Vector{Float64}(action)*env.dda_bound\n",
    "    \n",
    "    env.traj[:dda][:,t] = action\n",
    "    env.traj[:a][:,t+1] = env.a[:,t] + env.da[:,t]*env.Δt\n",
    "    env.traj[:da][:,t+1] = env.da[:,t] + env.dda[:,t]*env.Δt\n",
    "    env.traj[:Ũ⃗][:,t+1] = unitary_rollout(env.traj[:Ũ⃗][:,t],hcat(env.a[:,t],zeros(length(action))),env.traj.timestep,env.system)[:,end]\n",
    "    \n",
    "    env.time_step += 1/env.T\n",
    "\n",
    "    if(RLBase.is_terminated(env))\n",
    "        dda0 = (-a0-da0*2*env.Δt)/env.Δt^2\n",
    "        dda1=(-da0-dda0*env.Δt)/env.Δt\n",
    "        \n",
    "        RLBase.act!(env,dda0)\n",
    "        RLBase.act!(env,dda1)\n",
    "\n",
    "    end\n",
    "end\n",
    "\n",
    "function RLBase.reset!(env::GatePretrainingEnv; ϕ⃗::Union{Vector{Float64},Nothing}=nothing)\n",
    "    env.time_step=1/env.T\n",
    "\n",
    "    n_controls = length(system.H_drives)\n",
    "    env.traj[:a] = Matrix{Float64}(zeros(n_controls,T))\n",
    "    env.traj[:da] = Matrix{Float64}(zeros(n_controls,T))\n",
    "    env.traj[:dda] =  Matrix{Float64}(zeros(n_controls,T))\n",
    "    env.traj[[:Ũ⃗] = reduce(hcat,[operator_to_iso_vec(Matrix{ComplexF64}(I(size(system.H_drives[1], 1)))) for i in 1:T])\n",
    "    \n",
    "    env.ϕ⃗ = isnothing(ϕ⃗) ? [range(0,2*pi,env.N)[i] for i in rand(DiscreteUniform(1,env.N),env.𝒢.n)] : ϕ⃗\n",
    "end\n",
    "\n",
    "function RLBase.reset!(env::GateTrainingEnv; ϕ⃗::Union{Vector{Float64},Nothing}=nothing)\n",
    "    env.time_step=1/env.T\n",
    "\n",
    "    n_controls = length(system.H_drives)\n",
    "    env.traj[:a] = Matrix{Float64}(zeros(n_controls,T))\n",
    "    env.traj[:da] = Matrix{Float64}(zeros(n_controls,T))\n",
    "    env.traj[:dda] =  Matrix{Float64}(zeros(n_controls,T))\n",
    "    env.traj[[:Ũ⃗] = reduce(hcat,[operator_to_iso_vec(Matrix{ComplexF64}(I(size(system.H_drives[1], 1)))) for i in 1:T])\n",
    "    \n",
    "    env.ϕ⃗ = isnothing(ϕ⃗) ? rand(Uniform(0,2*pi),env.𝒢.n) : ϕ⃗\n",
    "end"
   ]
  },
  {
   "cell_type": "code",
   "execution_count": 25,
   "id": "9a502d9f-13ce-46cd-9d71-bae2caa41330",
   "metadata": {},
   "outputs": [],
   "source": [
    "function ControlPolicy(env::Union{GatePretrainingEnv,GateTrainingEnv};l::Vector{Int64}=[16,16])\n",
    "    out = length(env.system.H_drives)\n",
    "    inp = length(RLBase.state(env))\n",
    "    return Chain(Dense(inp=>l[1],relu),[Dense(l[i]=>l[i+1],relu) for i in 1:length(l)-1]...,Dense(l[end]=>out,softsign))\n",
    "end\n",
    "\n",
    "(𝒫::Chain)(env::Union{GatePretrainingEnv,GateTrainingEnv}) = 𝒫.mean_network(Vector{Float32}(RLBase.state(env)))\n",
    "    "
   ]
  },
  {
   "cell_type": "code",
   "execution_count": 29,
   "id": "76148d38-d3b8-4be1-95d2-21a13b2bb93a",
   "metadata": {},
   "outputs": [
    {
     "ename": "LoadError",
     "evalue": "ParseError:\n\u001b[90m# Error @ \u001b[0;0m\u001b]8;;file://C:/Users/Bikrant/PicoRL/In[29]#1:4\u001b\\\u001b[90mIn[29]:1:4\u001b[0;0m\u001b]8;;\u001b\\\n[1:\u001b[48;2;120;70;70m\u001b[0;0mend]\n\u001b[90m#  └ ── \u001b[0;0m\u001b[91mmissing last argument in range expression\u001b[0;0m",
     "output_type": "error",
     "traceback": [
      "ParseError:\n\u001b[90m# Error @ \u001b[0;0m\u001b]8;;file://C:/Users/Bikrant/PicoRL/In[29]#1:4\u001b\\\u001b[90mIn[29]:1:4\u001b[0;0m\u001b]8;;\u001b\\\n[1:\u001b[48;2;120;70;70m\u001b[0;0mend]\n\u001b[90m#  └ ── \u001b[0;0m\u001b[91mmissing last argument in range expression\u001b[0;0m",
      "",
      "Stacktrace:",
      " [1] top-level scope",
      "   @ In[29]:1"
     ]
    }
   ],
   "source": [
    "[1:end]"
   ]
  },
  {
   "cell_type": "code",
   "execution_count": null,
   "id": "90dd54ac-a924-41af-a41b-ad88aa6a53e5",
   "metadata": {},
   "outputs": [],
   "source": [
    "\n",
    "function RLBase.reward(env::PretrainingGateEnv;\n",
    "                action::Union{AbstractVector{Float32},Nothing}=nothing,\n",
    "                S::Float64=1.0,\n",
    "                S_a::Float64=S,\n",
    "                S_da::Float64=S,\n",
    "                S_dda::Float64=S)\n",
    "    idx = Vector{Int64}(env.angle.*(env.N-1)/(2*pi).+1)\n",
    "    idx = sum((idx[1:env.g.n-1].-1).*[env.N^(env.g.n-i) for i in 1:env.g.n-1])+idx[end]\n",
    "    if(! RLBase.is_terminated(env))\n",
    "        t = Int64(round(env.time_step*env.T))\n",
    "        action = Vector{Float64}(action)*env.dda_bound\n",
    "        \n",
    "        return - L2_loss(env.traj,:a,t,S_a;value = env.pretraining_trajectory[Symbol(\"a\"*string(idx))][:,t])\n",
    "               - L2_loss(env.traj,:da,t,S_da;value = env.pretraining_trajectory[Symbol(\"da\"*string(idx))][:,t])\n",
    "               - sum((action -env.pretraining_trajectory[Symbol(\"dda\"*string(idx))][:,t]).^2)*Δt^2/2 * S_dda\n",
    "    \n",
    "    else\n",
    "        return - L2_loss(env.traj,:a,Vector([env.T-2:env.T]),S_a;value = env.pretraining_trajectory[Symbol(\"a\"*string(idx))][:,env.T-2:env.T])\n",
    "               - L2_loss(env.traj,:da,Vector([env.T-2:env.T]),S_da;value = env.pretraining_trajectory[Symbol(\"da\"*string(idx))][:,env.T-2:env.T])\n",
    "               - L2_loss(env.traj,:da,Vector([env.T-2:env.T]),S_da;value = env.pretraining_trajectory[Symbol(\"da\"*string(idx))][:,env.T-2:env.T])\n",
    "    end\n",
    "end"
   ]
  }
 ],
 "metadata": {
  "kernelspec": {
   "display_name": "Julia 1.10.4",
   "language": "julia",
   "name": "julia-1.10"
  },
  "language_info": {
   "file_extension": ".jl",
   "mimetype": "application/julia",
   "name": "julia",
   "version": "1.10.4"
  }
 },
 "nbformat": 4,
 "nbformat_minor": 5
}
