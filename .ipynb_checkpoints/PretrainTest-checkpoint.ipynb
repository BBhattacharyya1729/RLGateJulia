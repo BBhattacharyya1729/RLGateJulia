{
 "cells": [
  {
   "cell_type": "code",
   "execution_count": 1,
   "id": "98d092ae-2ead-4e88-b1c1-c3a1e8567b6f",
   "metadata": {},
   "outputs": [],
   "source": [
    "using Flux\n",
    "using Statistics"
   ]
  },
  {
   "cell_type": "code",
   "execution_count": 2,
   "id": "77d896e2-b32a-4eb2-8d36-d4ebfbb5265c",
   "metadata": {
    "scrolled": true
   },
   "outputs": [],
   "source": [
    "###Complex Weight Initialization\n",
    "function c_uniform(in::Int64, out::Int64)\n",
    "    return Flux.glorot_uniform(in,out)/sqrt(2), Flux.glorot_uniform(in,out)/sqrt(2)\n",
    "end\n",
    "\n",
    "struct CDense{F, M<:AbstractMatrix, M<:AbstractMatrix, B}\n",
    "  weight_real::M\n",
    "  weight_imag::M\n",
    "  bias::B\n",
    "  σ::F\n",
    "  function CDense(weight_real::M,weight_imag::M,bias = true, σ::F = identity) where {M<:AbstractMatrix, F}\n",
    "    W = [weight_real -weight_imag; weight_imag weight_real]\n",
    "    b = Flux.create_bias(W, bias, size(W,1))\n",
    "    new{F,M,M,typeof(b)}(weight_real,weight_imag, b, σ)\n",
    "  end\n",
    "end\n",
    "\n",
    "function CDense((in, out)::Pair{<:Integer, <:Integer}, σ = identity;\n",
    "               init = c_uniform, bias = true)\n",
    "  CDense(init(out, in)..., bias, σ)\n",
    "end\n",
    "\n",
    "function (a::CDense)(x::AbstractVecOrMat)\n",
    "  Flux._size_check(a, x, 1 => size(a.weight_real, 2)+size(a.weight_imag, 2))\n",
    "  σ = NNlib.fast_act(a.σ, x)  # replaces tanh => tanh_fast, etc\n",
    "  xT = Flux._match_eltype(a, x)  # fixes Float64 input, etc.\n",
    "  return σ.([a.weight_real -a.weight_imag; a.weight_imag a.weight_real] * xT .+ a.bias)\n",
    "end\n",
    "\n",
    "function (a::CDense)(x::AbstractArray)\n",
    "  Flux._size_check(a, x, 1 => size(a.weight_real, 2)+size(a.weight_imag, 2))\n",
    "  reshape(a(reshape(x, size(x,1), :)), :, size(x)[2:end]...)\n",
    "end"
   ]
  },
  {
   "cell_type": "code",
   "execution_count": 3,
   "id": "aeeb45fd-1b58-410d-9823-3ce4961a3072",
   "metadata": {},
   "outputs": [
    {
     "data": {
      "text/plain": [
       "CDense{typeof(identity), Matrix{Float64}, Matrix{Float64}, Vector{Float64}}([-0.26438817115977825;;], [0.7523289166458874;;], [0.0, 0.0], identity)"
      ]
     },
     "execution_count": 3,
     "metadata": {},
     "output_type": "execute_result"
    }
   ],
   "source": [
    "m=CDense(1=>1)"
   ]
  },
  {
   "cell_type": "code",
   "execution_count": 5,
   "id": "8b3ac3e0-873a-40cf-a562-77ed00216547",
   "metadata": {},
   "outputs": [
    {
     "ename": "LoadError",
     "evalue": "UndefVarError: `_match_eltype` not defined",
     "output_type": "error",
     "traceback": [
      "UndefVarError: `_match_eltype` not defined",
      "",
      "Stacktrace:",
      " [1] (::CDense{typeof(identity), Matrix{Float64}, Matrix{Float64}, Vector{Float64}})(x::Vector{Int64})",
      "   @ Main .\\In[2]:26",
      " [2] top-level scope",
      "   @ In[5]:1"
     ]
    }
   ],
   "source": [
    "m([1,1])"
   ]
  },
  {
   "cell_type": "code",
   "execution_count": null,
   "id": "ecadc63e-41c7-461c-b59f-e3ba29c3c1e6",
   "metadata": {},
   "outputs": [],
   "source": []
  }
 ],
 "metadata": {
  "kernelspec": {
   "display_name": "Julia 1.10.4",
   "language": "julia",
   "name": "julia-1.10"
  },
  "language_info": {
   "file_extension": ".jl",
   "mimetype": "application/julia",
   "name": "julia",
   "version": "1.10.4"
  }
 },
 "nbformat": 4,
 "nbformat_minor": 5
}
