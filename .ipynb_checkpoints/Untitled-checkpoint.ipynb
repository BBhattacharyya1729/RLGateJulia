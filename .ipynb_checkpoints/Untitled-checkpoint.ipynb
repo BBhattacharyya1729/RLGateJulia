{
 "cells": [
  {
   "cell_type": "code",
   "execution_count": 1,
   "id": "2d519cb6-7b36-4dd8-8015-6661932e48ed",
   "metadata": {},
   "outputs": [
    {
     "name": "stderr",
     "output_type": "stream",
     "text": [
      "\u001b[91m\u001b[1m┌ \u001b[22m\u001b[39m\u001b[91m\u001b[1mError: \u001b[22m\u001b[39mcurl_easy_setopt: 4\n",
      "\u001b[91m\u001b[1m└ \u001b[22m\u001b[39m\u001b[90m@ Downloads.Curl C:\\Users\\Bikrant\\AppData\\Local\\julias\\julia-1.10\\share\\julia\\stdlib\\v1.10\\Downloads\\src\\Curl\\utils.jl:50\u001b[39m\n",
      "\u001b[32m\u001b[1m   Resolving\u001b[22m\u001b[39m package versions...\n",
      "\u001b[32m\u001b[1m    Updating\u001b[22m\u001b[39m `C:\\Users\\Bikrant\\.julia\\environments\\v1.10\\Project.toml`\n",
      "  \u001b[90m[6dad8b7f] \u001b[39m\u001b[92m+ TrajectoryIndexingUtils v0.1.0\u001b[39m\n",
      "\u001b[32m\u001b[1m  No Changes\u001b[22m\u001b[39m to `C:\\Users\\Bikrant\\.julia\\environments\\v1.10\\Manifest.toml`\n"
     ]
    }
   ],
   "source": [
    "using Pkg\n",
    "Pkg.add(\"TrajectoryIndexingUtils\")"
   ]
  }
 ],
 "metadata": {
  "kernelspec": {
   "display_name": "Julia 1.10.4",
   "language": "julia",
   "name": "julia-1.10"
  },
  "language_info": {
   "file_extension": ".jl",
   "mimetype": "application/julia",
   "name": "julia",
   "version": "1.10.4"
  }
 },
 "nbformat": 4,
 "nbformat_minor": 5
}
