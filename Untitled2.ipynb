{
 "cells": [
  {
   "cell_type": "code",
   "execution_count": 1,
   "id": "439a1bcf-3a84-4f24-b326-1075bf97c34e",
   "metadata": {},
   "outputs": [],
   "source": [
    "using Flux"
   ]
  },
  {
   "cell_type": "code",
   "execution_count": 2,
   "id": "adf48bde-85c3-47bc-bddd-0bc8f5fbc1c6",
   "metadata": {},
   "outputs": [
    {
     "data": {
      "text/plain": [
       "(Float32[0.97945905;;], Float32[-0.05560909;;])"
      ]
     },
     "execution_count": 2,
     "metadata": {},
     "output_type": "execute_result"
    }
   ],
   "source": [
    "struct f\n",
    "    a::Dense\n",
    "    b::Dense\n",
    "end\n",
    "\n",
    "function loss(g::f)\n",
    "    return (g.a([1])[1])^2 - (g.b([1])[1])^2\n",
    "end\n",
    "\n",
    "f1  = f(Dense(1=>1,bias=false),Dense(1=>1,bias=false))\n",
    "Flux.@functor f\n",
    "opt  = Flux.setup(Adam(1e-3),f1)\n",
    "Flux.freeze!(opt.b)\n",
    "opt2  = Flux.setup(Adam(1e-3),f1)\n",
    "Flux.freeze!(opt2.a)\n",
    "f1.a.weight,f1.b.weight"
   ]
  },
  {
   "cell_type": "code",
   "execution_count": 3,
   "id": "30169931-99bb-48e7-8edf-5506dbdc13fb",
   "metadata": {},
   "outputs": [
    {
     "data": {
      "text/plain": [
       "(Float32[3.0f-45;;], Float32[-0.05560909;;])"
      ]
     },
     "execution_count": 3,
     "metadata": {},
     "output_type": "execute_result"
    }
   ],
   "source": [
    "\n",
    "for steps in 1:10000\n",
    "    val, grads = Flux.withgradient(f1) do f1\n",
    "                 loss(f1)\n",
    "              end\n",
    "    Flux.update!(opt, f1, grads[1])\n",
    "end\n",
    "f1.a.weight,f1.b.weight"
   ]
  },
  {
   "cell_type": "code",
   "execution_count": 4,
   "id": "02066748-7c6f-4f1e-9ff1-70a362d69cfa",
   "metadata": {},
   "outputs": [
    {
     "data": {
      "text/plain": [
       "(Float32[3.0f-45;;], Float32[1.0f-44;;])"
      ]
     },
     "execution_count": 4,
     "metadata": {},
     "output_type": "execute_result"
    }
   ],
   "source": [
    "\n",
    "for steps in 1:10000\n",
    "    val, grads = Flux.withgradient(f1) do f1\n",
    "                 -loss(f1)\n",
    "              end\n",
    "    Flux.update!(opt2, f1, grads[1])\n",
    "end\n",
    "f1.a.weight,f1.b.weight"
   ]
  },
  {
   "cell_type": "code",
   "execution_count": 7,
   "id": "b9dff23c-2f04-41e9-93c6-39302b6b1d6a",
   "metadata": {},
   "outputs": [
    {
     "data": {
      "text/plain": [
       "10"
      ]
     },
     "execution_count": 7,
     "metadata": {},
     "output_type": "execute_result"
    }
   ],
   "source": [
    "[(i,j) for "
   ]
  },
  {
   "cell_type": "code",
   "execution_count": 8,
   "id": "6749c524-69b9-42d3-b28d-594945143fb4",
   "metadata": {},
   "outputs": [
    {
     "data": {
      "text/plain": [
       "2×5 Matrix{Float64}:\n",
       " 0.0  0.0  0.0  0.0  0.0\n",
       " 0.0  0.0  0.0  0.0  0.0"
      ]
     },
     "execution_count": 8,
     "metadata": {},
     "output_type": "execute_result"
    }
   ],
   "source": [
    "l1 = zeros(3,5)\n",
    "l2 = zeros(2,5)"
   ]
  },
  {
   "cell_type": "code",
   "execution_count": 9,
   "id": "e15d216b-defc-4eb5-be73-6553c854460c",
   "metadata": {},
   "outputs": [
    {
     "data": {
      "text/plain": [
       "zip([0.0 0.0 … 0.0 0.0; 0.0 0.0 … 0.0 0.0; 0.0 0.0 … 0.0 0.0], [0.0 0.0 … 0.0 0.0; 0.0 0.0 … 0.0 0.0])"
      ]
     },
     "execution_count": 9,
     "metadata": {},
     "output_type": "execute_result"
    }
   ],
   "source": [
    "zip(eachcolumn(),l2)"
   ]
  },
  {
   "cell_type": "code",
   "execution_count": 28,
   "id": "32c129ae-20e4-4520-bc50-9976d0f2eb10",
   "metadata": {},
   "outputs": [
    {
     "data": {
      "text/plain": [
       "3×2 Matrix{Float64}:\n",
       " 0.55861   0.0995313\n",
       " 0.8161    0.499938\n",
       " 0.455199  0.731783"
      ]
     },
     "execution_count": 28,
     "metadata": {},
     "output_type": "execute_result"
    }
   ],
   "source": [
    "rand(3,4)[:,1:2]"
   ]
  },
  {
   "cell_type": "code",
   "execution_count": 25,
   "id": "67500f81-5f4b-4b68-b711-3751f5761606",
   "metadata": {},
   "outputs": [
    {
     "data": {
      "text/plain": [
       "f"
      ]
     },
     "execution_count": 25,
     "metadata": {},
     "output_type": "execute_result"
    }
   ],
   "source": [
    "f(x,y,z) =x*y*z"
   ]
  },
  {
   "cell_type": "code",
   "execution_count": 26,
   "id": "8c49bce1-1cfa-412b-b8a8-32da56d586f9",
   "metadata": {},
   "outputs": [
    {
     "data": {
      "text/plain": [
       "2"
      ]
     },
     "execution_count": 26,
     "metadata": {},
     "output_type": "execute_result"
    }
   ],
   "source": [
    "f(1,[1,2]...)"
   ]
  },
  {
   "cell_type": "code",
   "execution_count": 29,
   "id": "35cb40b1-b6c2-4697-a150-b1b14be0a5dc",
   "metadata": {},
   "outputs": [
    {
     "data": {
      "text/plain": [
       "((4, 10), (10,))"
      ]
     },
     "execution_count": 29,
     "metadata": {},
     "output_type": "execute_result"
    }
   ],
   "source": [
    "a = rand(4,10)\n",
    "b = rand(10)\n",
    "size(a),size(b)"
   ]
  },
  {
   "cell_type": "code",
   "execution_count": 31,
   "id": "57aaf80d-ebeb-4785-99bf-3b33e4362562",
   "metadata": {},
   "outputs": [
    {
     "data": {
      "text/plain": [
       "5×10 Matrix{Float64}:\n",
       " 0.146632  0.00417433  0.0296978  0.579058  …  0.881182  0.20886   0.104152\n",
       " 0.625259  0.480498    0.562704   0.507073     0.907591  0.3388    0.459023\n",
       " 0.913559  0.479712    0.737057   0.358393     0.40369   0.920471  0.595423\n",
       " 0.310354  0.324073    0.454149   0.389627     0.136687  0.402065  0.361446\n",
       " 0.589189  0.789998    0.564351   0.51985      0.807296  0.373217  0.235951"
      ]
     },
     "execution_count": 31,
     "metadata": {},
     "output_type": "execute_result"
    }
   ],
   "source": [
    "vcat(a,b')"
   ]
  },
  {
   "cell_type": "code",
   "execution_count": 32,
   "id": "957ef371-16cf-4f53-b8ad-3dead6a7e8a6",
   "metadata": {},
   "outputs": [
    {
     "data": {
      "text/plain": [
       "10-element Vector{Float64}:\n",
       " 0.5891889635505025\n",
       " 0.7899975756184283\n",
       " 0.5643508210733224\n",
       " 0.5198495583258869\n",
       " 0.4668117222535526\n",
       " 0.4752285528412451\n",
       " 0.46878043573439043\n",
       " 0.8072962071740372\n",
       " 0.37321659868441837\n",
       " 0.23595062566471636"
      ]
     },
     "execution_count": 32,
     "metadata": {},
     "output_type": "execute_result"
    }
   ],
   "source": [
    "b"
   ]
  },
  {
   "cell_type": "code",
   "execution_count": 33,
   "id": "293641cb-82ae-4c0d-bda9-7af38d8c75c1",
   "metadata": {},
   "outputs": [],
   "source": [
    "using Flux"
   ]
  },
  {
   "cell_type": "code",
   "execution_count": 57,
   "id": "a2ba7357-8da8-46c1-b190-e536f98c1ba8",
   "metadata": {},
   "outputs": [
    {
     "data": {
      "text/plain": [
       "3-element DataLoader(::Tuple{Vector{Vector{Int64}}, Vector{Vector{Int64}}, Vector{Vector{Int64}}}, batchsize=2)\n",
       "  with first element:\n",
       "  (2-element Vector{Vector{Int64}}, 2-element Vector{Vector{Int64}}, 2-element Vector{Vector{Int64}},)"
      ]
     },
     "execution_count": 57,
     "metadata": {},
     "output_type": "execute_result"
    }
   ],
   "source": [
    "x = [[1,1],[2,2],[3,3],[1,1],[2,2],[3,3]]\n",
    "y = [[1,2],[1,2],[1,2],[1,1],[2,2],[3,3]]\n",
    "d = Flux.DataLoader((x,x,y),batchsize=2)"
   ]
  },
  {
   "cell_type": "code",
   "execution_count": 58,
   "id": "cbce5812-0e88-4be3-b5aa-d951dacb6c66",
   "metadata": {},
   "outputs": [
    {
     "name": "stdout",
     "output_type": "stream",
     "text": [
      "[[1, 1], [2, 2]][[1, 2], [1, 2]]\n",
      "[[3, 3], [1, 1]][[1, 2], [1, 1]]\n",
      "[[2, 2], [3, 3]][[2, 2], [3, 3]]\n"
     ]
    }
   ],
   "source": [
    "for (a,b,c) in d\n",
    "    l1 = a\n",
    "    l2 = c    \n",
    "    println(a,c)\n",
    "end"
   ]
  },
  {
   "cell_type": "code",
   "execution_count": 62,
   "id": "5be8d5f9-2d6f-4b9f-b0fa-9f6bd50eb93b",
   "metadata": {},
   "outputs": [
    {
     "data": {
      "text/plain": [
       "test (generic function with 1 method)"
      ]
     },
     "execution_count": 62,
     "metadata": {},
     "output_type": "execute_result"
    }
   ],
   "source": [
    "test(x) = [[x,x^2],[x^3,x^4]]"
   ]
  },
  {
   "cell_type": "code",
   "execution_count": 68,
   "id": "0e400321-472f-423d-9c11-674e0ef5b78f",
   "metadata": {},
   "outputs": [
    {
     "data": {
      "text/plain": [
       "1×5 Matrix{Float64}:\n",
       " 0.750896  0.01313  0.871189  0.19915  0.210063"
      ]
     },
     "execution_count": 68,
     "metadata": {},
     "output_type": "execute_result"
    }
   ],
   "source": []
  },
  {
   "cell_type": "code",
   "execution_count": 70,
   "id": "55c2208d-f460-49c8-84fc-add9efc618f5",
   "metadata": {},
   "outputs": [
    {
     "ename": "LoadError",
     "evalue": "MethodError: no method matching Vector{Float32}(::Matrix{Float64})\n\nYou might have used a 2d row vector where a 1d column vector was required.\nNote the difference between 1d column vector [1,2,3] and 2d row vector [1 2 3].\nYou can convert to a column vector with the vec() function.\n\n\u001b[0mClosest candidates are:\n\u001b[0m  Array{T, N}(::AbstractArray{S, N}) where {T, N, S}\n\u001b[0m\u001b[90m   @\u001b[39m \u001b[90mBase\u001b[39m \u001b[90m\u001b[4marray.jl:673\u001b[24m\u001b[39m\n\u001b[0m  Array{T, N}(\u001b[91m::Missing\u001b[39m, Any...) where {T, N}\n\u001b[0m\u001b[90m   @\u001b[39m \u001b[90mBase\u001b[39m \u001b[90m\u001b[4mbaseext.jl:43\u001b[24m\u001b[39m\n\u001b[0m  Array{T, N}(\u001b[91m::Nothing\u001b[39m, Any...) where {T, N}\n\u001b[0m\u001b[90m   @\u001b[39m \u001b[90mBase\u001b[39m \u001b[90m\u001b[4mbaseext.jl:42\u001b[24m\u001b[39m\n\u001b[0m  ...\n",
     "output_type": "error",
     "traceback": [
      "MethodError: no method matching Vector{Float32}(::Matrix{Float64})\n\nYou might have used a 2d row vector where a 1d column vector was required.\nNote the difference between 1d column vector [1,2,3] and 2d row vector [1 2 3].\nYou can convert to a column vector with the vec() function.\n\n\u001b[0mClosest candidates are:\n\u001b[0m  Array{T, N}(::AbstractArray{S, N}) where {T, N, S}\n\u001b[0m\u001b[90m   @\u001b[39m \u001b[90mBase\u001b[39m \u001b[90m\u001b[4marray.jl:673\u001b[24m\u001b[39m\n\u001b[0m  Array{T, N}(\u001b[91m::Missing\u001b[39m, Any...) where {T, N}\n\u001b[0m\u001b[90m   @\u001b[39m \u001b[90mBase\u001b[39m \u001b[90m\u001b[4mbaseext.jl:43\u001b[24m\u001b[39m\n\u001b[0m  Array{T, N}(\u001b[91m::Nothing\u001b[39m, Any...) where {T, N}\n\u001b[0m\u001b[90m   @\u001b[39m \u001b[90mBase\u001b[39m \u001b[90m\u001b[4mbaseext.jl:42\u001b[24m\u001b[39m\n\u001b[0m  ...\n",
      "",
      "Stacktrace:",
      " [1] top-level scope",
      "   @ In[70]:1"
     ]
    }
   ],
   "source": [
    "Vector{Float32}(rand(1,5))"
   ]
  },
  {
   "cell_type": "code",
   "execution_count": null,
   "id": "20adcbe6-2d08-4d62-83fe-826eb12c7ede",
   "metadata": {},
   "outputs": [],
   "source": []
  }
 ],
 "metadata": {
  "kernelspec": {
   "display_name": "Julia 1.10.4",
   "language": "julia",
   "name": "julia-1.10"
  },
  "language_info": {
   "file_extension": ".jl",
   "mimetype": "application/julia",
   "name": "julia",
   "version": "1.10.4"
  }
 },
 "nbformat": 4,
 "nbformat_minor": 5
}
