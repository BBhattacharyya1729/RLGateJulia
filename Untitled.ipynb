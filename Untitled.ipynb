{
 "cells": [
  {
   "cell_type": "code",
   "execution_count": 1,
   "id": "2d519cb6-7b36-4dd8-8015-6661932e48ed",
   "metadata": {},
   "outputs": [],
   "source": [
    "### This file does a RZ gate (1 parameter, 1 qubit) with X,Y control\n",
    "using QuantumCollocation\n",
    "using NamedTrajectories\n",
    "using TrajectoryIndexingUtils\n",
    "using SparseArrays\n",
    "using LinearAlgebra\n",
    "using ReinforcementLearning\n",
    "using IntervalSets\n",
    "using InteractiveUtils\n",
    "using Flux"
   ]
  },
  {
   "cell_type": "code",
   "execution_count": 2,
   "id": "698f8017-7b14-465d-893d-2237a7df70d7",
   "metadata": {},
   "outputs": [
    {
     "data": {
      "text/plain": [
       "FixedGateEnv"
      ]
     },
     "execution_count": 2,
     "metadata": {},
     "output_type": "execute_result"
    }
   ],
   "source": [
    "Base.@kwdef mutable struct FixedGateEnv <: AbstractEnv\n",
    "            system::AbstractQuantumSystem\n",
    "            operator::Union{EmbeddedOperator, AbstractMatrix{<:Number}}\n",
    "            T::Int\n",
    "            Δt::Union{Float64, Vector{Float64}}\n",
    "            reward::Union{Nothing, Int} = nothing\n",
    "            dda_bound::Float64=1.0\n",
    "            current_op::AbstractVector{<:Number} = operator_to_iso_vec(Matrix{ComplexF64}(I(size(system.H_drives[1], 1))))\n",
    "            time_step::Int64=1\n",
    "            a::AbstractMatrix{<:Number} = reduce(hcat,[[0. for i in 1:length(system.H_drives)]])\n",
    "            da::AbstractMatrix{<:Number} = reduce(hcat,[[0. for i in 1:length(system.H_drives)]])\n",
    "            dda::AbstractMatrix{<:Number} = [[0. for i in 1:length(env.system.H_drives)]]\n",
    "            R::Float64 = 1.0\n",
    "            R_a::Float64=R\n",
    "            R_da::Float64=R,\n",
    "            R_dda::Float64=R\n",
    "end\n",
    "\n",
    "            "
   ]
  },
  {
   "cell_type": "code",
   "execution_count": 3,
   "id": "1ed7b995-5c8e-43a6-aa9c-5a50cb3933a3",
   "metadata": {},
   "outputs": [],
   "source": [
    "function get_fidelity(env::FixedGateEnv)\n",
    "    return unitary_infidelity(env.current_op, operator_to_iso_vec(env.operator))\n",
    "end\n",
    "\n",
    "function get_fidelity_cost(env::FixedGateEnv,max_infidelity::Float64 =1.0e-6)\n",
    "    return -10 * log10(max_infidelity + 1 - get_fidelity(env))\n",
    "end\n",
    "\n",
    "RLBase.is_terminated(env::FixedGateEnv) = env.timestep > (env.T - 1)\n",
    "\n",
    "RLBase.action_space(env::FixedGateEnv) = Box([-env.dda_bound for i in 1:length(env.system.H_drives)],[env.dda_bound for i in 1:length(env.system.H_drives)])\n",
    "\n",
    "RLBase.reset!(env::FixedGateEnv) = function reset(env::FixedGateEnv)\n",
    "    env.a = [[0. for i in 1:length(env.system.H_drives)]]\n",
    "    env.da = [[0. for i in 1:length(env.system.H_drives)]]\n",
    "    env.dda = [[0. for i in 1:length(env.system.H_drives)]]\n",
    "    env.current_op = sparse(Matrix{ComplexF64}(I(size(system.H_drives[1], 1))))\n",
    "    self.time_step = 1 \n",
    "end \n",
    "\n",
    "\n",
    "###Sparse as possible, push all rewards to end\n",
    "RLBase.reward(env::FixedGateEnv) = function reward(env::FixedGateEnv)\n",
    "    if(!RLBase.is_terminated(env))\n",
    "        return\n",
    "    else\n",
    "        return get_fidelity_cost(env) - env.R_a*sum(sum(env.a.^2))/length(env.a) - env.R_da * sum(sum(env.da.^2))/length(env.da) - env.R_dda * sum(sum(env.dda.^2))/length(env.dda)\n",
    "    end \n",
    "end\n",
    "\n",
    "RLBase.state(env::FixedGateEnv, ::Observation{AbstractVector{<:Number}}) = env.current_op\n",
    "\n",
    "function RLBase.act!(env::FixedGateEnv, action)\n",
    "    env.dda = hcat(env.dda,action)\n",
    "    env.da = hcat(env.da, env.da[:,end] + action*env.Δt)\n",
    "    env.a = hcat(env.a, env.a[:,end] + env.da[:,end]*env.Δt)\n",
    "    env.time_step += 1 \n",
    "\n",
    "    G_drift = Matrix{Float64}(system.G_drift)\n",
    "    G_drives = Matrix{Float64}.(system.G_drives)\n",
    "    Gₜ = G(action, G_drift, G_drives)\n",
    "    env.current_op = iso_operator_to_iso_vec(exp(Gₜ * Δt[t - 1]) * iso_vec_to_iso_operator(env.current_op))\n",
    "\n",
    "    if(RLBase.is_terminated(env::FixedGateEnv))\n",
    "        a_final = (-env.a[:,end]-env.da[:,end]*env.Δt)/(env.Δt^2)\n",
    "        env.dda = hcat(env.dda,a_final)\n",
    "        env.da = hcat(env.da,[0. for i in 1:length(system.H_drives)])\n",
    "        env.a = hcat(env.a,[0. for i in 1:length(system.H_drives)])\n",
    "    end\n",
    "end\n",
    "\n",
    "mutable struct envinfo\n",
    "    a::AbstractMatrix{<:Number}\n",
    "    da::AbstractMatrix{<:Number}\n",
    "    dda::AbstractMatrix{<:Number}\n",
    "    current_op::AbstractVector{<:Number}\n",
    "    fidelity::Float64\n",
    "end \n",
    "\n",
    "RLBase.state(env::FixedGateEnv, ::InternalState{envinfo}) = envinfo(env.a,env.da,env.daa,env.current_op,get_fidelity(env))\n"
   ]
  },
  {
   "cell_type": "code",
   "execution_count": 4,
   "id": "bedea9f3-aa67-40bd-b288-bab7e4d72282",
   "metadata": {},
   "outputs": [
    {
     "ename": "LoadError",
     "evalue": "UndefVarError: `optimiser` not defined",
     "output_type": "error",
     "traceback": [
      "UndefVarError: `optimiser` not defined",
      "",
      "Stacktrace:",
      " [1] top-level scope",
      "   @ In[4]:1"
     ]
    }
   ],
   "source": [
    "FluxApproximator(model, optimiser)\n"
   ]
  },
  {
   "cell_type": "code",
   "execution_count": 5,
   "id": "1ae8e968-eb4e-4787-a02e-bf702a8f70a5",
   "metadata": {},
   "outputs": [],
   "source": [
    "struct LotteryAction{a}\n",
    "   function LotteryAction(a)\n",
    "       new{a}()\n",
    "   end\n",
    "end"
   ]
  },
  {
   "cell_type": "code",
   "execution_count": 6,
   "id": "4738bf1b-7b9f-4c15-92de-b363dfe85322",
   "metadata": {},
   "outputs": [
    {
     "ename": "LoadError",
     "evalue": "UndefVarError: `LotteryEnv` not defined",
     "output_type": "error",
     "traceback": [
      "UndefVarError: `LotteryEnv` not defined",
      "",
      "Stacktrace:",
      " [1] top-level scope",
      "   @ In[6]:1"
     ]
    }
   ],
   "source": [
    "RLBase.action_space(env::LotteryEnv) = LotteryAction.([:PowerRich, :MegaHaul, nothing])\n",
    "RLBase.reward(env::LotteryEnv) = env.reward\n",
    "RLBase.state(env::LotteryEnv, ::Observation, ::DefaultPlayer) = !isnothing(env.reward)\n",
    "RLBase.state_space(env::LotteryEnv) = [false, true]\n",
    "RLBase.is_terminated(env::LotteryEnv) = !isnothing(env.reward)\n",
    "RLBase.reset!(env::LotteryEnv) = env.reward = nothing"
   ]
  },
  {
   "cell_type": "code",
   "execution_count": 7,
   "id": "7a55b1b3-62ae-4a5e-ad7d-abdeb48e35e3",
   "metadata": {},
   "outputs": [
    {
     "ename": "LoadError",
     "evalue": "UndefVarError: `LotteryEnv` not defined",
     "output_type": "error",
     "traceback": [
      "UndefVarError: `LotteryEnv` not defined",
      "",
      "Stacktrace:",
      " [1] top-level scope",
      "   @ In[7]:1"
     ]
    }
   ],
   "source": [
    "function RLBase.act!(x::LotteryEnv, action)\n",
    "       if action == LotteryAction(:PowerRich)\n",
    "           x.reward = rand() < 0.01 ? 100_000_000 : -10\n",
    "       elseif action == LotteryAction(:MegaHaul)\n",
    "           x.reward = rand() < 0.05 ? 1_000_000 : -10\n",
    "       elseif action == LotteryAction(nothing)\n",
    "           x.reward = 0\n",
    "       else\n",
    "           @error \"unknown action of $action\"\n",
    "       end\n",
    "   end\n"
   ]
  },
  {
   "cell_type": "code",
   "execution_count": 8,
   "id": "399a04e9-ea4a-4dc3-9eb6-5be5cdd71443",
   "metadata": {},
   "outputs": [
    {
     "ename": "LoadError",
     "evalue": "UndefVarError: `LotteryEnv` not defined",
     "output_type": "error",
     "traceback": [
      "UndefVarError: `LotteryEnv` not defined",
      "",
      "Stacktrace:",
      " [1] top-level scope",
      "   @ In[8]:1"
     ]
    }
   ],
   "source": [
    "env = LotteryEnv()"
   ]
  },
  {
   "cell_type": "code",
   "execution_count": 9,
   "id": "c2eaa14a-acac-40df-b545-55522d8eeffc",
   "metadata": {},
   "outputs": [
    {
     "ename": "LoadError",
     "evalue": "UndefVarError: `env` not defined",
     "output_type": "error",
     "traceback": [
      "UndefVarError: `env` not defined",
      "",
      "Stacktrace:",
      " [1] top-level scope",
      "   @ In[9]:1"
     ]
    }
   ],
   "source": [
    "RLBase.test_runnable!(env)"
   ]
  },
  {
   "cell_type": "code",
   "execution_count": 10,
   "id": "eafc91ce-75fb-4b24-ac12-b2e8989dd0ca",
   "metadata": {},
   "outputs": [
    {
     "ename": "LoadError",
     "evalue": "UndefVarError: `env` not defined",
     "output_type": "error",
     "traceback": [
      "UndefVarError: `env` not defined",
      "",
      "Stacktrace:",
      " [1] top-level scope",
      "   @ .\\In[10]:3"
     ]
    }
   ],
   "source": [
    "n_episode = 10\n",
    "for _ in 1:n_episode\n",
    "    reset!(env)\n",
    "    while !is_terminated(env)\n",
    "        action = rand(action_space(env)) \n",
    "        act!(env, action)\n",
    "    end\n",
    "end"
   ]
  },
  {
   "cell_type": "code",
   "execution_count": 11,
   "id": "871b3be3-1c18-4847-8fac-7e29d9e38531",
   "metadata": {},
   "outputs": [
    {
     "ename": "LoadError",
     "evalue": "UndefVarError: `env` not defined",
     "output_type": "error",
     "traceback": [
      "UndefVarError: `env` not defined",
      "",
      "Stacktrace:",
      " [1] top-level scope",
      "   @ In[11]:1"
     ]
    }
   ],
   "source": [
    "run(RandomPolicy(action_space(env)), env, StopAfterNEpisodes(1_000))"
   ]
  },
  {
   "cell_type": "code",
   "execution_count": 12,
   "id": "82548ac4-7d1b-4dea-8fbd-779d5decaa40",
   "metadata": {},
   "outputs": [
    {
     "data": {
      "text/plain": [
       "TotalRewardPerEpisode{Val{true}, Float64}(Float64[], 0.0, true)"
      ]
     },
     "execution_count": 12,
     "metadata": {},
     "output_type": "execute_result"
    }
   ],
   "source": [
    "hook = TotalRewardPerEpisode()"
   ]
  },
  {
   "cell_type": "code",
   "execution_count": 13,
   "id": "f9d01f51-2672-4c00-a11a-9c065df1189f",
   "metadata": {},
   "outputs": [
    {
     "ename": "LoadError",
     "evalue": "UndefVarError: `env` not defined",
     "output_type": "error",
     "traceback": [
      "UndefVarError: `env` not defined",
      "",
      "Stacktrace:",
      " [1] top-level scope",
      "   @ In[13]:1"
     ]
    }
   ],
   "source": [
    "run(RandomPolicy(action_space(env)), env, StopAfterNEpisodes(1_000), hook)"
   ]
  },
  {
   "cell_type": "code",
   "execution_count": 14,
   "id": "c9d3ecc7-8de8-41c2-a746-9cc51aa8e2ba",
   "metadata": {},
   "outputs": [],
   "source": [
    "using Pkg"
   ]
  },
  {
   "cell_type": "code",
   "execution_count": 15,
   "id": "36aeff6b-0613-41bc-b6ac-e4b941271182",
   "metadata": {},
   "outputs": [
    {
     "name": "stderr",
     "output_type": "stream",
     "text": [
      "\u001b[91m\u001b[1m┌ \u001b[22m\u001b[39m\u001b[91m\u001b[1mError: \u001b[22m\u001b[39mcurl_easy_setopt: 4\n",
      "\u001b[91m\u001b[1m└ \u001b[22m\u001b[39m\u001b[90m@ Downloads.Curl C:\\Users\\Bikrant\\AppData\\Local\\julias\\julia-1.10\\share\\julia\\stdlib\\v1.10\\Downloads\\src\\Curl\\utils.jl:50\u001b[39m\n",
      "\u001b[32m\u001b[1m   Resolving\u001b[22m\u001b[39m package versions...\n",
      "\u001b[32m\u001b[1m  No Changes\u001b[22m\u001b[39m to `C:\\Users\\Bikrant\\.julia\\environments\\v1.10\\Project.toml`\n",
      "\u001b[32m\u001b[1m  No Changes\u001b[22m\u001b[39m to `C:\\Users\\Bikrant\\.julia\\environments\\v1.10\\Manifest.toml`\n"
     ]
    }
   ],
   "source": [
    "Pkg.add(\"CommonRLSpaces\")"
   ]
  },
  {
   "cell_type": "code",
   "execution_count": 16,
   "id": "160e0ab8-202f-4ed1-bb66-0369f2014432",
   "metadata": {},
   "outputs": [],
   "source": [
    "using IntervalSets"
   ]
  },
  {
   "cell_type": "code",
   "execution_count": 17,
   "id": "44cb6c14-965a-4fff-a7fe-296b4f5d429a",
   "metadata": {},
   "outputs": [
    {
     "data": {
      "text/plain": [
       "1 .. 2"
      ]
     },
     "execution_count": 17,
     "metadata": {},
     "output_type": "execute_result"
    }
   ],
   "source": [
    "a = 1..2"
   ]
  },
  {
   "cell_type": "code",
   "execution_count": 18,
   "id": "5ac471eb-4f7e-4e0b-ae9b-9d145f3b9e1c",
   "metadata": {},
   "outputs": [
    {
     "data": {
      "text/plain": [
       "1 .. 2"
      ]
     },
     "execution_count": 18,
     "metadata": {},
     "output_type": "execute_result"
    }
   ],
   "source": [
    "a"
   ]
  },
  {
   "cell_type": "code",
   "execution_count": 19,
   "id": "0cc3aaf4-1ca0-4c60-9d72-651aca43cb2a",
   "metadata": {},
   "outputs": [
    {
     "ename": "LoadError",
     "evalue": "ParseError:\n\u001b[90m# Error @ \u001b[0;0m\u001b]8;;file://C:/Users/Bikrant/PicoRL/In[19]#2:26\u001b\\\u001b[90mIn[19]:2:26\u001b[0;0m\u001b]8;;\u001b\\\nN = 5\npush!(x,[0. for i in 1:N]\u001b[48;2;120;70;70m\u001b[0;0m])\n\u001b[90m#                        └ ── \u001b[0;0m\u001b[91mExpected `)`\u001b[0;0m",
     "output_type": "error",
     "traceback": [
      "ParseError:\n\u001b[90m# Error @ \u001b[0;0m\u001b]8;;file://C:/Users/Bikrant/PicoRL/In[19]#2:26\u001b\\\u001b[90mIn[19]:2:26\u001b[0;0m\u001b]8;;\u001b\\\nN = 5\npush!(x,[0. for i in 1:N]\u001b[48;2;120;70;70m\u001b[0;0m])\n\u001b[90m#                        └ ── \u001b[0;0m\u001b[91mExpected `)`\u001b[0;0m",
      "",
      "Stacktrace:",
      " [1] top-level scope",
      "   @ In[19]:2"
     ]
    }
   ],
   "source": [
    "N = 5\n",
    "push!(x,[0. for i in 1:N]])"
   ]
  },
  {
   "cell_type": "code",
   "execution_count": 20,
   "id": "3270e37a-097f-4a55-90cf-f0be13052ebd",
   "metadata": {},
   "outputs": [
    {
     "ename": "LoadError",
     "evalue": "UndefVarError: `Space` not defined",
     "output_type": "error",
     "traceback": [
      "UndefVarError: `Space` not defined",
      "",
      "Stacktrace:",
      " [1] getproperty(x::Module, f::Symbol)",
      "   @ Base .\\Base.jl:31",
      " [2] top-level scope",
      "   @ In[20]:1"
     ]
    }
   ],
   "source": [
    "RLBase.Space([-1..1 for i in 1:N])"
   ]
  },
  {
   "cell_type": "code",
   "execution_count": 21,
   "id": "147ad5c7-a478-4993-a981-3fde919576cd",
   "metadata": {},
   "outputs": [
    {
     "ename": "LoadError",
     "evalue": "UndefVarError: `Space` not defined",
     "output_type": "error",
     "traceback": [
      "UndefVarError: `Space` not defined",
      "",
      "Stacktrace:",
      " [1] top-level scope",
      "   @ In[21]:2"
     ]
    }
   ],
   "source": [
    "using ReinforcementLearning, IntervalSets\n",
    "space = Space([1.0..2.0, 300.0..400.0])"
   ]
  },
  {
   "cell_type": "code",
   "execution_count": 22,
   "id": "b44bcf75-0754-4147-a2ac-6864dccd1428",
   "metadata": {},
   "outputs": [
    {
     "ename": "LoadError",
     "evalue": "MethodError: no method matching *(::Int64, ::Box{StaticArraysCore.SVector{5, Float64}})\n\n\u001b[0mClosest candidates are:\n\u001b[0m  *(::Any, ::Any, \u001b[91m::Any\u001b[39m, \u001b[91m::Any...\u001b[39m)\n\u001b[0m\u001b[90m   @\u001b[39m \u001b[90mBase\u001b[39m \u001b[90m\u001b[4moperators.jl:587\u001b[24m\u001b[39m\n\u001b[0m  *(::Int64, \u001b[91m::Multisets.Multiset{T}\u001b[39m) where T\n\u001b[0m\u001b[90m   @\u001b[39m \u001b[35mMultisets\u001b[39m \u001b[90mC:\\Users\\Bikrant\\.julia\\packages\\Multisets\\el2PS\\src\\\u001b[39m\u001b[90m\u001b[4moperations.jl:124\u001b[24m\u001b[39m\n\u001b[0m  *(::Number, \u001b[91m::AbstractDifferentiation.LazyHessian\u001b[39m)\n\u001b[0m\u001b[90m   @\u001b[39m \u001b[36mAbstractDifferentiation\u001b[39m \u001b[90mC:\\Users\\Bikrant\\.julia\\packages\\AbstractDifferentiation\\1Cavg\\src\\\u001b[39m\u001b[90m\u001b[4mAbstractDifferentiation.jl:444\u001b[24m\u001b[39m\n\u001b[0m  ...\n",
     "output_type": "error",
     "traceback": [
      "MethodError: no method matching *(::Int64, ::Box{StaticArraysCore.SVector{5, Float64}})\n\n\u001b[0mClosest candidates are:\n\u001b[0m  *(::Any, ::Any, \u001b[91m::Any\u001b[39m, \u001b[91m::Any...\u001b[39m)\n\u001b[0m\u001b[90m   @\u001b[39m \u001b[90mBase\u001b[39m \u001b[90m\u001b[4moperators.jl:587\u001b[24m\u001b[39m\n\u001b[0m  *(::Int64, \u001b[91m::Multisets.Multiset{T}\u001b[39m) where T\n\u001b[0m\u001b[90m   @\u001b[39m \u001b[35mMultisets\u001b[39m \u001b[90mC:\\Users\\Bikrant\\.julia\\packages\\Multisets\\el2PS\\src\\\u001b[39m\u001b[90m\u001b[4moperations.jl:124\u001b[24m\u001b[39m\n\u001b[0m  *(::Number, \u001b[91m::AbstractDifferentiation.LazyHessian\u001b[39m)\n\u001b[0m\u001b[90m   @\u001b[39m \u001b[36mAbstractDifferentiation\u001b[39m \u001b[90mC:\\Users\\Bikrant\\.julia\\packages\\AbstractDifferentiation\\1Cavg\\src\\\u001b[39m\u001b[90m\u001b[4mAbstractDifferentiation.jl:444\u001b[24m\u001b[39m\n\u001b[0m  ...\n",
      "",
      "Stacktrace:",
      " [1] top-level scope",
      "   @ In[22]:2"
     ]
    }
   ],
   "source": [
    "using CommonRLSpaces\n",
    "3*Box([-1 for i in 1:N],[-1 for i in 1:N])"
   ]
  },
  {
   "cell_type": "code",
   "execution_count": 23,
   "id": "1d66b9af-e424-400c-b64f-9edbeec99574",
   "metadata": {},
   "outputs": [
    {
     "data": {
      "text/plain": [
       "2-element Vector{Vector{Int64}}:\n",
       " [1, 2]\n",
       " [3, 4]"
      ]
     },
     "execution_count": 23,
     "metadata": {},
     "output_type": "execute_result"
    }
   ],
   "source": [
    "x = [[1,2],[3,4]]"
   ]
  },
  {
   "cell_type": "code",
   "execution_count": 24,
   "id": "c648f842-58f8-4dd8-b955-cbbdb6a24ff3",
   "metadata": {},
   "outputs": [
    {
     "ename": "LoadError",
     "evalue": "MethodError: no method matching ^(::Vector{Int64}, ::Int64)\n\n\u001b[0mClosest candidates are:\n\u001b[0m  ^(\u001b[91m::Regex\u001b[39m, ::Integer)\n\u001b[0m\u001b[90m   @\u001b[39m \u001b[90mBase\u001b[39m \u001b[90m\u001b[4mregex.jl:863\u001b[24m\u001b[39m\n\u001b[0m  ^(\u001b[91m::IntervalArithmetic.Interval{BigFloat}\u001b[39m, ::Integer)\n\u001b[0m\u001b[90m   @\u001b[39m \u001b[35mIntervalArithmetic\u001b[39m \u001b[90mC:\\Users\\Bikrant\\.julia\\packages\\IntervalArithmetic\\EquAX\\src\\intervals\\\u001b[39m\u001b[90m\u001b[4mfunctions.jl:39\u001b[24m\u001b[39m\n\u001b[0m  ^(\u001b[91m::IntervalArithmetic.Interval{Float64}\u001b[39m, ::Integer)\n\u001b[0m\u001b[90m   @\u001b[39m \u001b[35mIntervalArithmetic\u001b[39m \u001b[90mC:\\Users\\Bikrant\\.julia\\packages\\IntervalArithmetic\\EquAX\\src\\intervals\\\u001b[39m\u001b[90m\u001b[4mfunctions.jl:10\u001b[24m\u001b[39m\n\u001b[0m  ...\n",
     "output_type": "error",
     "traceback": [
      "MethodError: no method matching ^(::Vector{Int64}, ::Int64)\n\n\u001b[0mClosest candidates are:\n\u001b[0m  ^(\u001b[91m::Regex\u001b[39m, ::Integer)\n\u001b[0m\u001b[90m   @\u001b[39m \u001b[90mBase\u001b[39m \u001b[90m\u001b[4mregex.jl:863\u001b[24m\u001b[39m\n\u001b[0m  ^(\u001b[91m::IntervalArithmetic.Interval{BigFloat}\u001b[39m, ::Integer)\n\u001b[0m\u001b[90m   @\u001b[39m \u001b[35mIntervalArithmetic\u001b[39m \u001b[90mC:\\Users\\Bikrant\\.julia\\packages\\IntervalArithmetic\\EquAX\\src\\intervals\\\u001b[39m\u001b[90m\u001b[4mfunctions.jl:39\u001b[24m\u001b[39m\n\u001b[0m  ^(\u001b[91m::IntervalArithmetic.Interval{Float64}\u001b[39m, ::Integer)\n\u001b[0m\u001b[90m   @\u001b[39m \u001b[35mIntervalArithmetic\u001b[39m \u001b[90mC:\\Users\\Bikrant\\.julia\\packages\\IntervalArithmetic\\EquAX\\src\\intervals\\\u001b[39m\u001b[90m\u001b[4mfunctions.jl:10\u001b[24m\u001b[39m\n\u001b[0m  ...\n",
      "",
      "Stacktrace:",
      " [1] literal_pow",
      "   @ .\\intfuncs.jl:351 [inlined]",
      " [2] _broadcast_getindex_evalf",
      "   @ .\\broadcast.jl:709 [inlined]",
      " [3] _broadcast_getindex",
      "   @ .\\broadcast.jl:682 [inlined]",
      " [4] getindex",
      "   @ .\\broadcast.jl:636 [inlined]",
      " [5] copy",
      "   @ .\\broadcast.jl:942 [inlined]",
      " [6] materialize(bc::Base.Broadcast.Broadcasted{Base.Broadcast.DefaultArrayStyle{1}, Nothing, typeof(Base.literal_pow), Tuple{Base.RefValue{typeof(^)}, Vector{Vector{Int64}}, Base.RefValue{Val{2}}}})",
      "   @ Base.Broadcast .\\broadcast.jl:903",
      " [7] top-level scope",
      "   @ In[24]:1"
     ]
    }
   ],
   "source": [
    "sum(sum(x.^2))"
   ]
  },
  {
   "cell_type": "code",
   "execution_count": 25,
   "id": "1329b6a0-69d8-4957-aead-c2bd1e6c9884",
   "metadata": {},
   "outputs": [
    {
     "data": {
      "text/plain": [
       "5×1 Matrix{Float64}:\n",
       " 0.0\n",
       " 0.0\n",
       " 0.0\n",
       " 0.0\n",
       " 0.0"
      ]
     },
     "execution_count": 25,
     "metadata": {},
     "output_type": "execute_result"
    }
   ],
   "source": [
    "ta::Matrix{Float64} = reduce(hcat,[[0. for i in 1:5]])"
   ]
  },
  {
   "cell_type": "code",
   "execution_count": 26,
   "id": "d092897d-aa6b-4606-9929-1bbf56e2a53b",
   "metadata": {},
   "outputs": [
    {
     "data": {
      "text/plain": [
       "5×2 Matrix{Float64}:\n",
       " 0.0  0.0\n",
       " 0.0  0.0\n",
       " 0.0  0.0\n",
       " 0.0  0.0\n",
       " 0.0  0.0"
      ]
     },
     "execution_count": 26,
     "metadata": {},
     "output_type": "execute_result"
    }
   ],
   "source": [
    "M=reduce(hcat,[[0. for i in 1:5],[0. for i in 1:5]]).^2"
   ]
  },
  {
   "cell_type": "code",
   "execution_count": 27,
   "id": "5be6ae68-dad7-400e-b057-55ca7f65391d",
   "metadata": {},
   "outputs": [
    {
     "ename": "LoadError",
     "evalue": "ParseError:\n\u001b[90m# Error @ \u001b[0;0m\u001b]8;;file://C:/Users/Bikrant/PicoRL/In[27]#1:18\u001b\\\u001b[90mIn[27]:1:18\u001b[0;0m\u001b]8;;\u001b\\\nta=reduce(hcat,[[\u001b[48;2;120;70;70m,\u001b[0;0m,,,]])\n\u001b[90m#                ╙ ── \u001b[0;0m\u001b[91munexpected `,`\u001b[0;0m",
     "output_type": "error",
     "traceback": [
      "ParseError:\n\u001b[90m# Error @ \u001b[0;0m\u001b]8;;file://C:/Users/Bikrant/PicoRL/In[27]#1:18\u001b\\\u001b[90mIn[27]:1:18\u001b[0;0m\u001b]8;;\u001b\\\nta=reduce(hcat,[[\u001b[48;2;120;70;70m,\u001b[0;0m,,,]])\n\u001b[90m#                ╙ ── \u001b[0;0m\u001b[91munexpected `,`\u001b[0;0m",
      "",
      "Stacktrace:",
      " [1] top-level scope",
      "   @ In[27]:1"
     ]
    }
   ],
   "source": [
    "ta=reduce(hcat,[[,,,,]])"
   ]
  },
  {
   "cell_type": "code",
   "execution_count": 28,
   "id": "e4388d0f-e413-4fe7-b787-4a8383c86872",
   "metadata": {},
   "outputs": [
    {
     "ename": "LoadError",
     "evalue": "UndefVarError: `v` not defined",
     "output_type": "error",
     "traceback": [
      "UndefVarError: `v` not defined",
      "",
      "Stacktrace:",
      " [1] top-level scope",
      "   @ In[28]:1"
     ]
    }
   ],
   "source": [
    "hcat(v,rand(Box([1,1,1,1,1],[2,2,2,2,2])))"
   ]
  },
  {
   "cell_type": "code",
   "execution_count": 29,
   "id": "f0c203cf-54f1-4445-b59f-a4055e08fb82",
   "metadata": {},
   "outputs": [
    {
     "data": {
      "text/plain": [
       "0×0 Matrix{Any}"
      ]
     },
     "execution_count": 29,
     "metadata": {},
     "output_type": "execute_result"
    }
   ],
   "source": [
    "v = [;;]"
   ]
  },
  {
   "cell_type": "code",
   "execution_count": 30,
   "id": "1ace684a-81d3-45c2-901c-97b6cea63136",
   "metadata": {},
   "outputs": [
    {
     "data": {
      "text/plain": [
       "10"
      ]
     },
     "execution_count": 30,
     "metadata": {},
     "output_type": "execute_result"
    }
   ],
   "source": [
    "length(M)"
   ]
  },
  {
   "cell_type": "code",
   "execution_count": 31,
   "id": "f052c800-ba08-4fef-8b08-173e74e74e79",
   "metadata": {},
   "outputs": [
    {
     "data": {
      "text/plain": [
       "ComplexF64\u001b[90m (alias for \u001b[39m\u001b[90mComplex{Float64}\u001b[39m\u001b[90m)\u001b[39m"
      ]
     },
     "execution_count": 31,
     "metadata": {},
     "output_type": "execute_result"
    }
   ],
   "source": [
    "typeof(1.0+1.0im)"
   ]
  },
  {
   "cell_type": "code",
   "execution_count": 32,
   "id": "cc77a6b6-b59f-4363-9a3c-d5904b6d47cd",
   "metadata": {},
   "outputs": [
    {
     "data": {
      "text/plain": [
       "5-element Vector{Float64}:\n",
       " 0.0\n",
       " 0.0\n",
       " 0.0\n",
       " 0.0\n",
       " 0.0"
      ]
     },
     "execution_count": 32,
     "metadata": {},
     "output_type": "execute_result"
    }
   ],
   "source": [
    "M[:,end]"
   ]
  },
  {
   "cell_type": "code",
   "execution_count": 33,
   "id": "b9a68f3a-6067-473f-87bc-110a9361f440",
   "metadata": {},
   "outputs": [
    {
     "data": {
      "text/plain": [
       "true"
      ]
     },
     "execution_count": 33,
     "metadata": {},
     "output_type": "execute_result"
    }
   ],
   "source": [
    "typeof(operator_to_iso_vec(Matrix{ComplexF64}([1 0; 0 1])))<:AbstractVector{<:Number}"
   ]
  },
  {
   "cell_type": "code",
   "execution_count": 34,
   "id": "8b56c318-77ad-421c-8078-a128f59bb87a",
   "metadata": {},
   "outputs": [
    {
     "data": {
      "text/plain": [
       "#42 (generic function with 1 method)"
      ]
     },
     "execution_count": 34,
     "metadata": {},
     "output_type": "execute_result"
    }
   ],
   "source": [
    "f = function(x::Int64)\n",
    "    return x^2\n",
    "end"
   ]
  },
  {
   "cell_type": "code",
   "execution_count": 35,
   "id": "6cbb2ef0-d6d8-48ec-a0b6-3e49de958878",
   "metadata": {},
   "outputs": [
    {
     "data": {
      "text/plain": [
       "1"
      ]
     },
     "execution_count": 35,
     "metadata": {},
     "output_type": "execute_result"
    }
   ],
   "source": [
    "f(1)"
   ]
  },
  {
   "cell_type": "code",
   "execution_count": null,
   "id": "0558c059-395d-4f93-b173-0b5f2a76c900",
   "metadata": {},
   "outputs": [],
   "source": []
  }
 ],
 "metadata": {
  "kernelspec": {
   "display_name": "Julia 1.10.4",
   "language": "julia",
   "name": "julia-1.10"
  },
  "language_info": {
   "file_extension": ".jl",
   "mimetype": "application/julia",
   "name": "julia",
   "version": "1.10.4"
  }
 },
 "nbformat": 4,
 "nbformat_minor": 5
}
