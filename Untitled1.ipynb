{
 "cells": [
  {
   "cell_type": "code",
   "execution_count": 3,
   "id": "0b7db36e-905f-42da-8b34-96bfcd945b26",
   "metadata": {},
   "outputs": [
    {
     "ename": "LoadError",
     "evalue": "UndefVarError: `PPOPolicy` not defined",
     "output_type": "error",
     "traceback": [
      "UndefVarError: `PPOPolicy` not defined",
      "",
      "Stacktrace:",
      " [1] top-level scope",
      "   @ In[3]:17"
     ]
    }
   ],
   "source": [
    "using ReinforcementLearning\n",
    "using ReinforcementLearningCore\n",
    "using Flux\n",
    "\n",
    "policy_net = Chain(\n",
    "    Dense(1, 32, relu),\n",
    "    Dense(32, 32, relu),\n",
    "    Dense(32, 3)\n",
    ")\n",
    "\n",
    "# Critic Network\n",
    "critic_net = Chain(\n",
    "    Dense(1, 32, relu),\n",
    "    Dense(32, 32, relu),\n",
    "    Dense(32, 1) # Output layer with 1 unit for the value estimate\n",
    ")\n",
    "PPOPolicy()"
   ]
  },
  {
   "cell_type": "code",
   "execution_count": 4,
   "id": "c93d4236-1564-4ee7-96f2-fee244dbe187",
   "metadata": {},
   "outputs": [
    {
     "ename": "LoadError",
     "evalue": "MethodError: no method matching ActorCritic(::Chain{Tuple{Dense{typeof(relu), Matrix{Float32}, Vector{Float32}}, Dense{typeof(relu), Matrix{Float32}, Vector{Float32}}, Dense{typeof(identity), Matrix{Float32}, Vector{Float32}}}}, ::Chain{Tuple{Dense{typeof(relu), Matrix{Float32}, Vector{Float32}}, Dense{typeof(relu), Matrix{Float32}, Vector{Float32}}, Dense{typeof(identity), Matrix{Float32}, Vector{Float32}}}})",
     "output_type": "error",
     "traceback": [
      "MethodError: no method matching ActorCritic(::Chain{Tuple{Dense{typeof(relu), Matrix{Float32}, Vector{Float32}}, Dense{typeof(relu), Matrix{Float32}, Vector{Float32}}, Dense{typeof(identity), Matrix{Float32}, Vector{Float32}}}}, ::Chain{Tuple{Dense{typeof(relu), Matrix{Float32}, Vector{Float32}}, Dense{typeof(relu), Matrix{Float32}, Vector{Float32}}, Dense{typeof(identity), Matrix{Float32}, Vector{Float32}}}})",
      "",
      "Stacktrace:",
      " [1] ActorCritic(; actor::Chain{Tuple{Dense{typeof(relu), Matrix{Float32}, Vector{Float32}}, Dense{typeof(relu), Matrix{Float32}, Vector{Float32}}, Dense{typeof(identity), Matrix{Float32}, Vector{Float32}}}}, critic::Chain{Tuple{Dense{typeof(relu), Matrix{Float32}, Vector{Float32}}, Dense{typeof(relu), Matrix{Float32}, Vector{Float32}}, Dense{typeof(identity), Matrix{Float32}, Vector{Float32}}}})",
      "   @ ReinforcementLearningCore C:\\Users\\Bikrant\\.julia\\packages\\ReinforcementLearningCore\\BYdWk\\src\\utils\\networks.jl:15",
      " [2] top-level scope",
      "   @ In[4]:2"
     ]
    }
   ],
   "source": [
    "\n",
    "agent = Agent(\n",
    "    policy=PPOPolicy(\n",
    "        approximator= ActorCritic(;actor = policy_net, critic = critic_net) \n",
    "        ,\n",
    "        γ = 0.99, # Discount factor\n",
    "        clip_range = 0.2, # PPO clipping parameter\n",
    "        λ = 0.95, # GAE parameter\n",
    "        batch_size = 64, # Number of steps per update\n",
    "        epochs = 10, # Epochs for policy update\n",
    "    ),\n",
    "    trajectory = PPOTrajectory(;capacity = 64),   #replay buffer size\n",
    ")"
   ]
  },
  {
   "cell_type": "code",
   "execution_count": null,
   "id": "45540411-ce91-4cde-bfaa-4bab42180156",
   "metadata": {},
   "outputs": [],
   "source": []
  }
 ],
 "metadata": {
  "kernelspec": {
   "display_name": "Julia 1.10.4",
   "language": "julia",
   "name": "julia-1.10"
  },
  "language_info": {
   "file_extension": ".jl",
   "mimetype": "application/julia",
   "name": "julia",
   "version": "1.10.4"
  }
 },
 "nbformat": 4,
 "nbformat_minor": 5
}
