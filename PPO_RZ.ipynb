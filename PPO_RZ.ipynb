{
 "cells": [
  {
   "cell_type": "code",
   "execution_count": null,
   "id": "7984f5db-6d11-4df8-94d5-3f9c61a16303",
   "metadata": {},
   "outputs": [],
   "source": [
    "using QuantumCollocation\n",
    "using NamedTrajectories\n",
    "using TrajectoryIndexingUtils\n",
    "using Flux\n",
    "using ReinforcementLearning\n",
    "using IntervalSets\n",
    "using LinearAlgebra\n",
    "using Base\n",
    "using Distributions\n",
    "using Statistics\n",
    "using Printf\n",
    "using Reexport\n",
    "using Revise\n",
    "using DomainSets\n",
    "using CairoMakie\n",
    "\n",
    "includet(\"PPO.jl\")\n",
    "includet(\"AIRL.jl\")\n",
    "includet(\"GateEnvs.jl\")"
   ]
  },
  {
   "cell_type": "code",
   "execution_count": null,
   "id": "93011084-ce29-45f3-af1c-c4fb5db17afd",
   "metadata": {},
   "outputs": [],
   "source": [
    "RZ_traj = load_traj(\"RZ_pretrained.jld2\")\n",
    "\n",
    "const Units = 1e9\n",
    "const MHz = 1e6 / Units\n",
    "const GHz = 1e9 / Units\n",
    "const ns = 1e-9 * Units\n",
    "const μs = 1e-6 * Units\n",
    ";\n",
    "\n",
    "\n",
    "# Operators\n",
    "const Paulis = Dict(\n",
    "    \"I\" => Matrix{ComplexF64}([1 0; 0 1]),\n",
    "    \"X\" => Matrix{ComplexF64}([0 1; 1 0]),\n",
    "    \"Y\" => Matrix{ComplexF64}([0 im; -im 0]),\n",
    "    \"Z\" => Matrix{ComplexF64}([1 0; 0 -1]),\n",
    ")\n",
    "\n",
    "rz_op(theta) = exp(-im/2 * theta[1] * Paulis[\"Z\"]);\n",
    "\n",
    "RZ = Gate(1,rz_op)\n",
    "\n",
    "H_drives = [\n",
    "     Paulis[\"X\"],Paulis[\"Y\"]\n",
    "]\n",
    "system = QuantumSystem(H_drives);\n",
    "t_f = 10* ns\n",
    "n_steps = 51\n",
    "times = range(0, t_f, n_steps)  # Alternative: collect(0:Δt:t_f)\n",
    "n_controls=1\n",
    "n_qubits=1;\n",
    "Δt = times[2] - times[1]\n",
    "\n",
    "N = 11\n",
    ";"
   ]
  },
  {
   "cell_type": "code",
   "execution_count": null,
   "id": "3b8f8fca-3784-494d-93e4-f9f3c636f786",
   "metadata": {},
   "outputs": [],
   "source": [
    "Pretraining_Env = GatePretrainingEnv(\n",
    "                                    system,\n",
    "                                    n_steps,\n",
    "                                    RZ,\n",
    "                                    Δt,\n",
    "                                    N,\n",
    "                                    RZ_traj;\n",
    "                                    dda_bound=1.5\n",
    "                                    )\n",
    "\n",
    "Training_Env = GateTrainingEnv(\n",
    "                            system,\n",
    "                            n_steps,\n",
    "                            RZ,\n",
    "                            Δt;\n",
    "                            dda_bound=0.5\n",
    "                            );\n",
    "\n",
    "pretraining_𝒫 = ActorCriticPolicy(Pretraining_Env;l=[128,128])\n",
    "training_𝒫 = ActorCriticPolicy(Training_Env;l=[128,128])"
   ]
  },
  {
   "cell_type": "code",
   "execution_count": null,
   "id": "d8da4748-b0bf-4b42-b58a-9e0368296024",
   "metadata": {},
   "outputs": [],
   "source": [
    "expert_states = Vector{Vector{Float32}}()\n",
    "expert_acts = Vector{Vector{Float32}}()\n",
    "expert_new_states = Vector{Vector{Float32}}()\n",
    "for idx in 1:11\n",
    "    for t in 1:48\n",
    "        angle = range(0,2*pi,11)[idx]\n",
    "        a = RZ_traj[Symbol(\"a\"*string(idx))][:,t]\n",
    "        da = RZ_traj[Symbol(\"da\"*string(idx))][:,t]\n",
    "        dda = RZ_traj[Symbol(\"dda\"*string(idx))][:,t]\n",
    "        U = RZ_traj[Symbol(Unicode.normalize(\"Ũ⃗\"*string(idx)))][:,t]\n",
    "        push!(expert_states, vcat(U,da,a,[t/51],angle))\n",
    "        push!(expert_acts, dda)\n",
    "        if(t>1)\n",
    "          push!(expert_new_states, expert_states[end])\n",
    "        end\n",
    "        if(t==48)\n",
    "            angle = range(0,2*pi,11)[idx]\n",
    "            a = RZ_traj[Symbol(\"a\"*string(idx))][:,51]\n",
    "            da = RZ_traj[Symbol(\"da\"*string(idx))][:,51]\n",
    "            dda = RZ_traj[Symbol(\"dda\"*string(idx))][:,51]\n",
    "            U = RZ_traj[Symbol(Unicode.normalize(\"Ũ⃗\"*string(idx)))][:,51]\n",
    "            push!(expert_new_states, vcat(U,da,a,[49/51],angle))\n",
    "\n",
    "        end\n",
    "    end\n",
    "end\n",
    "behavior_clone(pretraining_𝒫,expert_states,expert_acts;epochs=50000,η=5f-5) "
   ]
  },
  {
   "cell_type": "code",
   "execution_count": null,
   "id": "10df6239-3cc2-4fd1-b395-9794f62abe90",
   "metadata": {},
   "outputs": [],
   "source": [
    "mean(mean.([abs2.(x) for x in (pretraining_𝒫.mean_network.(pretraining_𝒫.feature_network.(expert_states))-expert_acts)]))"
   ]
  },
  {
   "cell_type": "code",
   "execution_count": null,
   "id": "e8cc0f08-6925-4959-8653-0e5994aac729",
   "metadata": {},
   "outputs": [],
   "source": [
    "PPO_pretraining_𝒫,score_history = PPO(Pretraining_Env;η=3f-5,iterations=1000,n_steps=1,trajectory_batch_size=40,vf_ratio=5f-1,norm_adv = true,ϵ= 1f-1,ent_ratio=1f-3,KL_targ=1f-2,initial_policy=pretraining_𝒫,clip_grad_tresh=1f3,use_log_rewards=false)"
   ]
  },
  {
   "cell_type": "code",
   "execution_count": null,
   "id": "90514368-1eda-42ee-93d1-c0d0643cedd3",
   "metadata": {},
   "outputs": [],
   "source": [
    "#using CairoMakie\n",
    "#fig = Figure()\n",
    "#ax = Axis(fig[1, 1])\n",
    "#lines!(ax,1:length(score_history),score_history)\n",
    "#fig"
   ]
  },
  {
   "cell_type": "code",
   "execution_count": null,
   "id": "409671af-7717-46aa-b269-44d6ab8a4f1a",
   "metadata": {},
   "outputs": [],
   "source": [
    "includet(\"AIRL.jl\")\n",
    "AIRL_pretraining_𝒫,score_history,e_losses,s_losses,total_d_losses = AIRL(Pretraining_Env,expert_states,expert_acts,expert_new_states;η=3f-5,iterations=50,n_steps=1,trajectory_batch_size=11,vf_ratio=5f-1,norm_adv = true,ϵ= 1f-1,ent_ratio=1f-3,KL_targ=1f-2,clip_grad_tresh=1f3,use_log_rewards=false)"
   ]
  },
  {
   "cell_type": "code",
   "execution_count": null,
   "id": "e8ad96cd-88ce-46e3-8811-7edc5a8203fc",
   "metadata": {},
   "outputs": [],
   "source": [
    "using CairoMakie\n",
    "fig = Figure()\n",
    "ax = Axis(fig[1, 1])\n",
    "lines!(ax,1:length(score_history),score_history)\n",
    "fig"
   ]
  },
  {
   "cell_type": "code",
   "execution_count": null,
   "id": "aa6d2b9f-a015-40e1-a80d-a88dba3ab6fd",
   "metadata": {},
   "outputs": [],
   "source": [
    "using CairoMakie\n",
    "fig = Figure()\n",
    "ax = Axis(fig[1, 1])\n",
    "lines!(ax,1:length(e_losses),e_losses)\n",
    "fig"
   ]
  },
  {
   "cell_type": "code",
   "execution_count": null,
   "id": "35eeb439-ed00-492a-98f2-f82a3380ae54",
   "metadata": {},
   "outputs": [],
   "source": [
    "using CairoMakie\n",
    "fig = Figure()\n",
    "ax = Axis(fig[1, 1])\n",
    "lines!(ax,1:length(s_losses),s_losses)\n",
    "fig"
   ]
  },
  {
   "cell_type": "code",
   "execution_count": null,
   "id": "5d587c00-f9e4-4831-8c1b-b02fbc3f0423",
   "metadata": {},
   "outputs": [],
   "source": [
    "using CairoMakie\n",
    "fig = Figure()\n",
    "ax = Axis(fig[1, 1])\n",
    "lines!(ax,1:length(total_d_losses),total_d_losses)\n",
    "fig"
   ]
  },
  {
   "cell_type": "code",
   "execution_count": null,
   "id": "d6755dae-519e-4eb5-a104-e7ee322dfb13",
   "metadata": {},
   "outputs": [],
   "source": [
    "includet(\"AIRL.jl\")\n",
    "bc_AIRL_pretraining_𝒫,score_history,e_losses,s_losses,total_d_losses = AIRL(Pretraining_Env,expert_states,expert_acts,expert_new_states;η=3f-5,iterations=50,n_steps=1,trajectory_batch_size=11,vf_ratio=5f-1,norm_adv = true,ϵ= 1f-1,ent_ratio=1f-3,KL_targ=1f-2,initial_policy=pretraining_𝒫,clip_grad_tresh=1f3,use_log_rewards=false)"
   ]
  },
  {
   "cell_type": "code",
   "execution_count": null,
   "id": "290ca808-81a7-40a3-ab9c-8c6558bda0f2",
   "metadata": {},
   "outputs": [],
   "source": [
    "using CairoMakie\n",
    "fig = Figure()\n",
    "ax = Axis(fig[1, 1])\n",
    "lines!(ax,1:length(score_history),score_history)\n",
    "fig"
   ]
  },
  {
   "cell_type": "code",
   "execution_count": null,
   "id": "562d9ecb-5bc2-486b-820e-215135ba7f21",
   "metadata": {},
   "outputs": [],
   "source": [
    "using CairoMakie\n",
    "fig = Figure()\n",
    "ax = Axis(fig[1, 1])\n",
    "lines!(ax,1:length(e_losses),e_losses)\n",
    "fig"
   ]
  },
  {
   "cell_type": "code",
   "execution_count": null,
   "id": "050aabaf-9f62-4014-a7ac-a7bcd85b6b2c",
   "metadata": {},
   "outputs": [],
   "source": [
    "using CairoMakie\n",
    "fig = Figure()\n",
    "ax = Axis(fig[1, 1])\n",
    "lines!(ax,1:length(s_losses),s_losses)\n",
    "fig"
   ]
  },
  {
   "cell_type": "code",
   "execution_count": null,
   "id": "acc1e6e0-d4c0-479a-a74c-e530d07bcd38",
   "metadata": {},
   "outputs": [],
   "source": [
    "using CairoMakie\n",
    "fig = Figure()\n",
    "ax = Axis(fig[1, 1])\n",
    "lines!(ax,1:length(total_d_losses),total_d_losses)\n",
    "fig"
   ]
  }
 ],
 "metadata": {
  "kernelspec": {
   "display_name": "Julia 1.10.4",
   "language": "julia",
   "name": "julia-1.10"
  },
  "language_info": {
   "file_extension": ".jl",
   "mimetype": "application/julia",
   "name": "julia",
   "version": "1.10.4"
  }
 },
 "nbformat": 4,
 "nbformat_minor": 5
}
